{
 "cells": [
  {
   "cell_type": "code",
   "execution_count": 5,
   "metadata": {
    "collapsed": true,
    "pycharm": {
     "name": "#%%\n"
    }
   },
   "outputs": [
    {
     "name": "stdout",
     "output_type": "stream",
     "text": [
      "Empty DataFrame\n",
      "Columns: [Open, High, Low, Close, Adj Close, Volume]\n",
      "Index: []\n",
      "Empty DataFrame\n",
      "Columns: [Open, High, Low, Close, Adj Close, Volume]\n",
      "Index: []\n"
     ]
    },
    {
     "data": {
      "text/plain": "Empty DataFrame\nColumns: [Open, High, Low, Close, Adj Close, Volume]\nIndex: []",
      "text/html": "<div>\n<style scoped>\n    .dataframe tbody tr th:only-of-type {\n        vertical-align: middle;\n    }\n\n    .dataframe tbody tr th {\n        vertical-align: top;\n    }\n\n    .dataframe thead th {\n        text-align: right;\n    }\n</style>\n<table border=\"1\" class=\"dataframe\">\n  <thead>\n    <tr style=\"text-align: right;\">\n      <th></th>\n      <th>Open</th>\n      <th>High</th>\n      <th>Low</th>\n      <th>Close</th>\n      <th>Adj Close</th>\n      <th>Volume</th>\n    </tr>\n    <tr>\n      <th>Date</th>\n      <th></th>\n      <th></th>\n      <th></th>\n      <th></th>\n      <th></th>\n      <th></th>\n    </tr>\n  </thead>\n  <tbody>\n  </tbody>\n</table>\n</div>"
     },
     "execution_count": 5,
     "metadata": {},
     "output_type": "execute_result"
    }
   ],
   "source": [
    "# pip3 install lxml     needed!\n",
    "import yfinance as yf\n",
    "\n",
    "msft = yf.Ticker(\"MSFT\")\n",
    "\n",
    "# get stock info\n",
    "msft.info\n",
    "\n",
    "print(msft.financials)\n",
    "print(msft.quarterly_financials)\n",
    "\n",
    "msft.quarterly_balance_sheet"
   ]
  },
  {
   "cell_type": "code",
   "execution_count": 9,
   "outputs": [
    {
     "name": "stdout",
     "output_type": "stream",
     "text": [
      "Empty DataFrame\n",
      "Columns: [Open, High, Low, Close, Adj Close, Volume]\n",
      "Index: []\n"
     ]
    }
   ],
   "source": [
    "print(msft.quarterly_balance_sheet)"
   ],
   "metadata": {
    "collapsed": false,
    "pycharm": {
     "name": "#%%\n"
    }
   }
  },
  {
   "cell_type": "code",
   "execution_count": 15,
   "outputs": [
    {
     "data": {
      "text/plain": "Index(['Open', 'High', 'Low', 'Close', 'Adj Close', 'Volume'], dtype='object')"
     },
     "execution_count": 15,
     "metadata": {},
     "output_type": "execute_result"
    }
   ],
   "source": [
    "import numpy as np\n",
    "import pandas as pd\n",
    "\n",
    "df = pd.DataFrame(msft.quarterly_balance_sheet)\n",
    "df.columns"
   ],
   "metadata": {
    "collapsed": false,
    "pycharm": {
     "name": "#%%\n"
    }
   }
  },
  {
   "cell_type": "code",
   "execution_count": 16,
   "outputs": [
    {
     "data": {
      "text/plain": "Empty DataFrame\nColumns: [Open, High, Low, Close, Adj Close, Volume]\nIndex: []",
      "text/html": "<div>\n<style scoped>\n    .dataframe tbody tr th:only-of-type {\n        vertical-align: middle;\n    }\n\n    .dataframe tbody tr th {\n        vertical-align: top;\n    }\n\n    .dataframe thead th {\n        text-align: right;\n    }\n</style>\n<table border=\"1\" class=\"dataframe\">\n  <thead>\n    <tr style=\"text-align: right;\">\n      <th></th>\n      <th>Open</th>\n      <th>High</th>\n      <th>Low</th>\n      <th>Close</th>\n      <th>Adj Close</th>\n      <th>Volume</th>\n    </tr>\n    <tr>\n      <th>Date</th>\n      <th></th>\n      <th></th>\n      <th></th>\n      <th></th>\n      <th></th>\n      <th></th>\n    </tr>\n  </thead>\n  <tbody>\n  </tbody>\n</table>\n</div>"
     },
     "execution_count": 16,
     "metadata": {},
     "output_type": "execute_result"
    }
   ],
   "source": [
    "msft.earnings\n",
    "\n"
   ],
   "metadata": {
    "collapsed": false,
    "pycharm": {
     "name": "#%%\n"
    }
   }
  },
  {
   "cell_type": "code",
   "execution_count": 1,
   "outputs": [
    {
     "data": {
      "text/plain": "Empty DataFrame\nColumns: [Open, High, Low, Close, Adj Close, Volume]\nIndex: []",
      "text/html": "<div>\n<style scoped>\n    .dataframe tbody tr th:only-of-type {\n        vertical-align: middle;\n    }\n\n    .dataframe tbody tr th {\n        vertical-align: top;\n    }\n\n    .dataframe thead th {\n        text-align: right;\n    }\n</style>\n<table border=\"1\" class=\"dataframe\">\n  <thead>\n    <tr style=\"text-align: right;\">\n      <th></th>\n      <th>Open</th>\n      <th>High</th>\n      <th>Low</th>\n      <th>Close</th>\n      <th>Adj Close</th>\n      <th>Volume</th>\n    </tr>\n    <tr>\n      <th>Date</th>\n      <th></th>\n      <th></th>\n      <th></th>\n      <th></th>\n      <th></th>\n      <th></th>\n    </tr>\n  </thead>\n  <tbody>\n  </tbody>\n</table>\n</div>"
     },
     "execution_count": 1,
     "metadata": {},
     "output_type": "execute_result"
    }
   ],
   "source": [
    "import yfinance as yf\n",
    "\n",
    "msft = yf.Ticker(\"MSFT\")\n",
    "msft.balance_sheet"
   ],
   "metadata": {
    "collapsed": false,
    "pycharm": {
     "name": "#%%\n"
    }
   }
  },
  {
   "cell_type": "code",
   "execution_count": 4,
   "outputs": [
    {
     "name": "stdout",
     "output_type": "stream",
     "text": [
      "[*********************100%***********************]  3 of 3 completed\n"
     ]
    }
   ],
   "source": [
    "import yfinance as yf\n",
    "\n",
    "data = yf.download(  # or pdr.get_data_yahoo(...\n",
    "        # tickers list or string as well\n",
    "        tickers = \"SPY AAPL MSFT\",\n",
    "\n",
    "        # use \"period\" instead of start/end\n",
    "        # valid periods: 1d,5d,1mo,3mo,6mo,1y,2y,5y,10y,ytd,max\n",
    "        # (optional, default is '1mo')\n",
    "        period = \"1d\",\n",
    "\n",
    "        # fetch data by interval (including intraday if period < 60 days)\n",
    "        # valid intervals: 1m,2m,5m,15m,30m,60m,90m,1h,1d,5d,1wk,1mo,3mo\n",
    "        # (optional, default is '1d')\n",
    "        interval = \"1d\",\n",
    "\n",
    "        # group by ticker (to access via data['SPY'])\n",
    "        # (optional, default is 'column')\n",
    "        group_by = 'ticker',\n",
    "\n",
    "        # adjust all OHLC automatically\n",
    "        # (optional, default is False)\n",
    "        auto_adjust = True,\n",
    "\n",
    "        # download pre/post regular market hours data\n",
    "        # (optional, default is False)\n",
    "        prepost = True,\n",
    "\n",
    "        # use threads for mass downloading? (True/False/Integer)\n",
    "        # (optional, default is True)\n",
    "        threads = True,\n",
    "\n",
    "        # proxy URL scheme use use when downloading?\n",
    "        # (optional, default is None)\n",
    "        proxy = None\n",
    "    )"
   ],
   "metadata": {
    "collapsed": false,
    "pycharm": {
     "name": "#%%\n"
    }
   }
  },
  {
   "cell_type": "code",
   "execution_count": 15,
   "outputs": [
    {
     "data": {
      "text/plain": "{'zip': '98052-6399',\n 'sector': 'Technology',\n 'fullTimeEmployees': 163000,\n 'longBusinessSummary': 'Microsoft Corporation develops, licenses, and supports software, services, devices, and solutions worldwide. Its Productivity and Business Processes segment offers Office, Exchange, SharePoint, Microsoft Teams, Office 365 Security and Compliance, and Skype for Business, as well as related Client Access Licenses (CAL); Skype, Outlook.com, and OneDrive; LinkedIn that includes Talent, Learning, Sales, and Marketing solutions, as well as premium subscriptions; and Dynamics 365, a set of cloud-based and on-premises business solutions for small and medium businesses, large organizations, and divisions of enterprises. Its Intelligent Cloud segment licenses SQL and Windows Servers, Visual Studio, System Center, and related CALs; GitHub that provides a collaboration platform and code hosting service for developers; and Azure, a cloud platform. It also offers support services and Microsoft consulting services to assist customers in developing, deploying, and managing Microsoft server and desktop solutions; and training and certification to developers and IT professionals on various Microsoft products. Its More Personal Computing segment provides Windows original equipment manufacturer (OEM) licensing and other non-volume licensing of the Windows operating system; Windows Commercial, such as volume licensing of the Windows operating system, Windows cloud services, and other Windows commercial offerings; patent licensing; Windows Internet of Things; and MSN advertising. It also offers Surface, PC accessories, PCs, tablets, gaming and entertainment consoles, and other intelligent devices; Gaming, including Xbox hardware, and Xbox content and services; video games and third-party video game royalties; and Search, including Bing and Microsoft advertising. It sells its products through OEMs, distributors, and resellers; and directly through digital marketplaces, online stores, and retail stores. The company was founded in 1975 and is headquartered in Redmond, Washington.',\n 'city': 'Redmond',\n 'phone': '425-882-8080',\n 'state': 'WA',\n 'country': 'United States',\n 'companyOfficers': [],\n 'website': 'http://www.microsoft.com',\n 'maxAge': 1,\n 'address1': 'One Microsoft Way',\n 'industry': 'Software—Infrastructure',\n 'previousClose': 214.58,\n 'regularMarketOpen': 213.86,\n 'twoHundredDayAverage': 183.87259,\n 'trailingAnnualDividendYield': 0.009506944,\n 'payoutRatio': 0.3455,\n 'volume24Hr': None,\n 'regularMarketDayHigh': 216.245,\n 'navPrice': None,\n 'averageDailyVolume10Day': 24690014,\n 'totalAssets': None,\n 'regularMarketPreviousClose': 214.58,\n 'fiftyDayAverage': 208.96857,\n 'trailingAnnualDividendRate': 2.04,\n 'open': 213.86,\n 'toCurrency': None,\n 'averageVolume10days': 24690014,\n 'expireDate': None,\n 'yield': None,\n 'algorithm': None,\n 'dividendRate': 2.04,\n 'exDividendDate': 1597795200,\n 'beta': 0.903846,\n 'circulatingSupply': None,\n 'startDate': None,\n 'regularMarketDayLow': 212.85,\n 'priceHint': 2,\n 'currency': 'USD',\n 'trailingPE': 36.98264,\n 'regularMarketVolume': 36249319,\n 'lastMarket': None,\n 'maxSupply': None,\n 'openInterest': None,\n 'marketCap': 1612060819456,\n 'volumeAllCurrencies': None,\n 'strikePrice': None,\n 'averageVolume': 34580412,\n 'priceToSalesTrailing12Months': 11.27197,\n 'dayLow': 212.85,\n 'ask': 214.77,\n 'ytdReturn': None,\n 'askSize': 1400,\n 'volume': 36249319,\n 'fiftyTwoWeekHigh': 217.64,\n 'forwardPE': 29.0218,\n 'fromCurrency': None,\n 'fiveYearAvgDividendYield': 1.87,\n 'fiftyTwoWeekLow': 132.52,\n 'bid': 214.66,\n 'tradeable': False,\n 'dividendYield': 0.0095,\n 'bidSize': 1000,\n 'dayHigh': 216.245,\n 'exchange': 'NMS',\n 'shortName': 'Microsoft Corporation',\n 'longName': 'Microsoft Corporation',\n 'exchangeTimezoneName': 'America/New_York',\n 'exchangeTimezoneShortName': 'EDT',\n 'isEsgPopulated': False,\n 'gmtOffSetMilliseconds': '-14400000',\n 'quoteType': 'EQUITY',\n 'symbol': 'MSFT',\n 'messageBoardId': 'finmb_21835',\n 'market': 'us_market',\n 'annualHoldingsTurnover': None,\n 'enterpriseToRevenue': 10.892,\n 'beta3Year': None,\n 'profitMargins': 0.30962,\n 'enterpriseToEbitda': 23.869,\n '52WeekChange': 0.5726837,\n 'morningStarRiskRating': None,\n 'forwardEps': 7.34,\n 'revenueQuarterlyGrowth': None,\n 'sharesOutstanding': 7567649792,\n 'fundInceptionDate': None,\n 'annualReportExpenseRatio': None,\n 'bookValue': 15.626,\n 'sharesShort': 36472205,\n 'sharesPercentSharesOut': 0.0047999998,\n 'fundFamily': None,\n 'lastFiscalYearEnd': 1593475200,\n 'heldPercentInstitutions': 0.74093,\n 'netIncomeToCommon': 44280999936,\n 'trailingEps': 5.76,\n 'lastDividendValue': None,\n 'SandP52WeekChange': 0.18023336,\n 'priceToBook': 13.632407,\n 'heldPercentInsiders': 0.014249999,\n 'nextFiscalYearEnd': 1656547200,\n 'mostRecentQuarter': 1593475200,\n 'shortRatio': 1.04,\n 'sharesShortPreviousMonthDate': 1593475200,\n 'floatShares': 7455954378,\n 'enterpriseValue': 1557679439872,\n 'threeYearAverageReturn': None,\n 'lastSplitDate': 1045526400,\n 'lastSplitFactor': '2:1',\n 'legalType': None,\n 'morningStarOverallRating': None,\n 'earningsQuarterlyGrowth': -0.151,\n 'dateShortInterest': 1596153600,\n 'pegRatio': 2.21,\n 'lastCapGain': None,\n 'shortPercentOfFloat': 0.0049,\n 'sharesShortPriorMonth': 43132952,\n 'category': None,\n 'fiveYearAverageReturn': None,\n 'regularMarketPrice': 213.86,\n 'logo_url': 'https://logo.clearbit.com/microsoft.com'}"
     },
     "execution_count": 15,
     "metadata": {},
     "output_type": "execute_result"
    }
   ],
   "source": [
    "import yfinance as yf\n",
    "\n",
    "tickers = yf.Tickers('msft aapl goog')\n",
    "# ^ returns a named tuple of Ticker objects\n",
    "\n",
    "# access each ticker using (example)\n",
    "tickers.tickers.MSFT.info"
   ],
   "metadata": {
    "collapsed": false,
    "pycharm": {
     "name": "#%%\n"
    }
   }
  },
  {
   "cell_type": "code",
   "execution_count": 26,
   "outputs": [
    {
     "name": "stdout",
     "output_type": "stream",
     "text": [
      "MSFT\n",
      "AAPL\n",
      "GOOG\n"
     ]
    }
   ],
   "source": [
    "for ticker in tickers.tickers:\n",
    "    print(ticker.info['symbol'])"
   ],
   "metadata": {
    "collapsed": false,
    "pycharm": {
     "name": "#%%\n"
    }
   }
  },
  {
   "cell_type": "code",
   "execution_count": 7,
   "outputs": [
    {
     "name": "stdout",
     "output_type": "stream",
     "text": [
      "---- print info ----\n",
      "MSFT\n",
      "37.581596\n",
      "AAPL\n",
      "37.86879\n",
      "GOOG\n",
      "35.351707\n",
      "---- print info ----\n",
      "GOOG\n",
      "35.351707\n",
      "MSFT\n",
      "37.581596\n",
      "AAPL\n",
      "37.86879\n"
     ]
    }
   ],
   "source": [
    "import yfinance as yf\n",
    "\n",
    "tickers = yf.Tickers('msft aapl goog')\n",
    "\n",
    "def print_info(ticker_list):\n",
    "    print('---- print info ----')\n",
    "    for ticker in ticker_list:\n",
    "        print(ticker.info['symbol'])\n",
    "        print(ticker.info['trailingPE'])\n",
    "\n",
    "ticker_list = [ticker for ticker in tickers.tickers]\n",
    "print_info(ticker_list)\n",
    "ticker_list.sort(key=lambda val : val.info['trailingPE'])\n",
    "print_info(ticker_list)"
   ],
   "metadata": {
    "collapsed": false,
    "pycharm": {
     "name": "#%%\n"
    }
   }
  },
  {
   "cell_type": "code",
   "execution_count": 4,
   "outputs": [
    {
     "name": "stdout",
     "output_type": "stream",
     "text": [
      "<class 'yfinance.tickers.Tickers'>\n"
     ]
    }
   ],
   "source": [
    "print(type(tickers.tickers))"
   ],
   "metadata": {
    "collapsed": false,
    "pycharm": {
     "name": "#%%\n"
    }
   }
  },
  {
   "cell_type": "code",
   "execution_count": 41,
   "outputs": [
    {
     "name": "stdout",
     "output_type": "stream",
     "text": [
      "started\n",
      "ended\n",
      "{'zip': [yfinance.Ticker object <GOOG>, yfinance.Ticker object <AAPL>, yfinance.Ticker object <MSFT>], 'sector': [yfinance.Ticker object <GOOG>, yfinance.Ticker object <MSFT>, yfinance.Ticker object <AAPL>], 'fullTimeEmployees': [yfinance.Ticker object <GOOG>, yfinance.Ticker object <AAPL>, yfinance.Ticker object <MSFT>], 'longBusinessSummary': [yfinance.Ticker object <GOOG>, yfinance.Ticker object <AAPL>, yfinance.Ticker object <MSFT>], 'city': [yfinance.Ticker object <AAPL>, yfinance.Ticker object <GOOG>, yfinance.Ticker object <MSFT>], 'phone': [yfinance.Ticker object <AAPL>, yfinance.Ticker object <MSFT>, yfinance.Ticker object <GOOG>], 'state': [yfinance.Ticker object <AAPL>, yfinance.Ticker object <GOOG>, yfinance.Ticker object <MSFT>], 'country': [yfinance.Ticker object <MSFT>, yfinance.Ticker object <AAPL>, yfinance.Ticker object <GOOG>], 'companyOfficers': [yfinance.Ticker object <MSFT>, yfinance.Ticker object <AAPL>, yfinance.Ticker object <GOOG>], 'website': [yfinance.Ticker object <GOOG>, yfinance.Ticker object <AAPL>, yfinance.Ticker object <MSFT>], 'maxAge': [yfinance.Ticker object <MSFT>, yfinance.Ticker object <AAPL>, yfinance.Ticker object <GOOG>], 'address1': [yfinance.Ticker object <GOOG>, yfinance.Ticker object <AAPL>, yfinance.Ticker object <MSFT>], 'industry': [yfinance.Ticker object <AAPL>, yfinance.Ticker object <GOOG>, yfinance.Ticker object <MSFT>], 'previousClose': [yfinance.Ticker object <MSFT>, yfinance.Ticker object <AAPL>, yfinance.Ticker object <GOOG>], 'regularMarketOpen': [yfinance.Ticker object <MSFT>, yfinance.Ticker object <AAPL>, yfinance.Ticker object <GOOG>], 'twoHundredDayAverage': [yfinance.Ticker object <MSFT>, yfinance.Ticker object <AAPL>, yfinance.Ticker object <GOOG>], 'trailingAnnualDividendYield': [yfinance.Ticker object <GOOG>, yfinance.Ticker object <AAPL>, yfinance.Ticker object <MSFT>], 'payoutRatio': [yfinance.Ticker object <GOOG>, yfinance.Ticker object <AAPL>, yfinance.Ticker object <MSFT>], 'volume24Hr': [yfinance.Ticker object <MSFT>, yfinance.Ticker object <AAPL>, yfinance.Ticker object <GOOG>], 'regularMarketDayHigh': [yfinance.Ticker object <MSFT>, yfinance.Ticker object <AAPL>, yfinance.Ticker object <GOOG>], 'navPrice': [yfinance.Ticker object <MSFT>, yfinance.Ticker object <AAPL>, yfinance.Ticker object <GOOG>], 'averageDailyVolume10Day': [yfinance.Ticker object <GOOG>, yfinance.Ticker object <MSFT>, yfinance.Ticker object <AAPL>], 'totalAssets': [yfinance.Ticker object <MSFT>, yfinance.Ticker object <AAPL>, yfinance.Ticker object <GOOG>], 'regularMarketPreviousClose': [yfinance.Ticker object <MSFT>, yfinance.Ticker object <AAPL>, yfinance.Ticker object <GOOG>], 'fiftyDayAverage': [yfinance.Ticker object <MSFT>, yfinance.Ticker object <AAPL>, yfinance.Ticker object <GOOG>], 'trailingAnnualDividendRate': [yfinance.Ticker object <GOOG>, yfinance.Ticker object <MSFT>, yfinance.Ticker object <AAPL>], 'open': [yfinance.Ticker object <MSFT>, yfinance.Ticker object <AAPL>, yfinance.Ticker object <GOOG>], 'toCurrency': [yfinance.Ticker object <MSFT>, yfinance.Ticker object <AAPL>, yfinance.Ticker object <GOOG>], 'averageVolume10days': [yfinance.Ticker object <GOOG>, yfinance.Ticker object <MSFT>, yfinance.Ticker object <AAPL>], 'expireDate': [yfinance.Ticker object <MSFT>, yfinance.Ticker object <AAPL>, yfinance.Ticker object <GOOG>], 'yield': [yfinance.Ticker object <MSFT>, yfinance.Ticker object <AAPL>, yfinance.Ticker object <GOOG>], 'algorithm': [yfinance.Ticker object <MSFT>, yfinance.Ticker object <AAPL>, yfinance.Ticker object <GOOG>], 'dividendRate': [yfinance.Ticker object <GOOG>, yfinance.Ticker object <MSFT>, yfinance.Ticker object <AAPL>], 'exDividendDate': [yfinance.Ticker object <GOOG>, yfinance.Ticker object <AAPL>, yfinance.Ticker object <MSFT>], 'beta': [yfinance.Ticker object <MSFT>, yfinance.Ticker object <GOOG>, yfinance.Ticker object <AAPL>], 'circulatingSupply': [yfinance.Ticker object <MSFT>, yfinance.Ticker object <AAPL>, yfinance.Ticker object <GOOG>], 'startDate': [yfinance.Ticker object <MSFT>, yfinance.Ticker object <AAPL>, yfinance.Ticker object <GOOG>], 'regularMarketDayLow': [yfinance.Ticker object <MSFT>, yfinance.Ticker object <AAPL>, yfinance.Ticker object <GOOG>], 'priceHint': [yfinance.Ticker object <MSFT>, yfinance.Ticker object <AAPL>, yfinance.Ticker object <GOOG>], 'currency': [yfinance.Ticker object <MSFT>, yfinance.Ticker object <AAPL>, yfinance.Ticker object <GOOG>], 'trailingPE': [yfinance.Ticker object <GOOG>, yfinance.Ticker object <MSFT>, yfinance.Ticker object <AAPL>], 'regularMarketVolume': [yfinance.Ticker object <GOOG>, yfinance.Ticker object <MSFT>, yfinance.Ticker object <AAPL>], 'lastMarket': [yfinance.Ticker object <MSFT>, yfinance.Ticker object <AAPL>, yfinance.Ticker object <GOOG>], 'maxSupply': [yfinance.Ticker object <MSFT>, yfinance.Ticker object <AAPL>, yfinance.Ticker object <GOOG>], 'openInterest': [yfinance.Ticker object <MSFT>, yfinance.Ticker object <AAPL>, yfinance.Ticker object <GOOG>], 'marketCap': [yfinance.Ticker object <GOOG>, yfinance.Ticker object <MSFT>, yfinance.Ticker object <AAPL>], 'volumeAllCurrencies': [yfinance.Ticker object <MSFT>, yfinance.Ticker object <AAPL>, yfinance.Ticker object <GOOG>], 'strikePrice': [yfinance.Ticker object <MSFT>, yfinance.Ticker object <AAPL>, yfinance.Ticker object <GOOG>], 'averageVolume': [yfinance.Ticker object <GOOG>, yfinance.Ticker object <MSFT>, yfinance.Ticker object <AAPL>], 'priceToSalesTrailing12Months': [yfinance.Ticker object <GOOG>, yfinance.Ticker object <AAPL>, yfinance.Ticker object <MSFT>], 'dayLow': [yfinance.Ticker object <MSFT>, yfinance.Ticker object <AAPL>, yfinance.Ticker object <GOOG>], 'ask': [yfinance.Ticker object <MSFT>, yfinance.Ticker object <AAPL>, yfinance.Ticker object <GOOG>], 'ytdReturn': [yfinance.Ticker object <MSFT>, yfinance.Ticker object <AAPL>, yfinance.Ticker object <GOOG>], 'askSize': [yfinance.Ticker object <GOOG>, yfinance.Ticker object <MSFT>, yfinance.Ticker object <AAPL>], 'volume': [yfinance.Ticker object <GOOG>, yfinance.Ticker object <MSFT>, yfinance.Ticker object <AAPL>], 'fiftyTwoWeekHigh': [yfinance.Ticker object <MSFT>, yfinance.Ticker object <AAPL>, yfinance.Ticker object <GOOG>], 'forwardPE': [yfinance.Ticker object <GOOG>, yfinance.Ticker object <MSFT>, yfinance.Ticker object <AAPL>], 'fromCurrency': [yfinance.Ticker object <MSFT>, yfinance.Ticker object <AAPL>, yfinance.Ticker object <GOOG>], 'fiveYearAvgDividendYield': [yfinance.Ticker object <GOOG>, yfinance.Ticker object <AAPL>, yfinance.Ticker object <MSFT>], 'fiftyTwoWeekLow': [yfinance.Ticker object <MSFT>, yfinance.Ticker object <AAPL>, yfinance.Ticker object <GOOG>], 'bid': [yfinance.Ticker object <MSFT>, yfinance.Ticker object <AAPL>, yfinance.Ticker object <GOOG>], 'tradeable': [yfinance.Ticker object <MSFT>, yfinance.Ticker object <AAPL>, yfinance.Ticker object <GOOG>], 'dividendYield': [yfinance.Ticker object <GOOG>, yfinance.Ticker object <AAPL>, yfinance.Ticker object <MSFT>], 'bidSize': [yfinance.Ticker object <MSFT>, yfinance.Ticker object <AAPL>, yfinance.Ticker object <GOOG>], 'dayHigh': [yfinance.Ticker object <MSFT>, yfinance.Ticker object <AAPL>, yfinance.Ticker object <GOOG>], 'exchange': [yfinance.Ticker object <MSFT>, yfinance.Ticker object <AAPL>, yfinance.Ticker object <GOOG>], 'shortName': [yfinance.Ticker object <GOOG>, yfinance.Ticker object <AAPL>, yfinance.Ticker object <MSFT>], 'longName': [yfinance.Ticker object <GOOG>, yfinance.Ticker object <AAPL>, yfinance.Ticker object <MSFT>], 'exchangeTimezoneName': [yfinance.Ticker object <MSFT>, yfinance.Ticker object <AAPL>, yfinance.Ticker object <GOOG>], 'exchangeTimezoneShortName': [yfinance.Ticker object <MSFT>, yfinance.Ticker object <AAPL>, yfinance.Ticker object <GOOG>], 'isEsgPopulated': [yfinance.Ticker object <MSFT>, yfinance.Ticker object <AAPL>, yfinance.Ticker object <GOOG>], 'gmtOffSetMilliseconds': [yfinance.Ticker object <MSFT>, yfinance.Ticker object <AAPL>, yfinance.Ticker object <GOOG>], 'quoteType': [yfinance.Ticker object <MSFT>, yfinance.Ticker object <AAPL>, yfinance.Ticker object <GOOG>], 'symbol': [yfinance.Ticker object <AAPL>, yfinance.Ticker object <GOOG>, yfinance.Ticker object <MSFT>], 'messageBoardId': [yfinance.Ticker object <MSFT>, yfinance.Ticker object <AAPL>, yfinance.Ticker object <GOOG>], 'market': [yfinance.Ticker object <MSFT>, yfinance.Ticker object <AAPL>, yfinance.Ticker object <GOOG>], 'annualHoldingsTurnover': [yfinance.Ticker object <MSFT>, yfinance.Ticker object <AAPL>, yfinance.Ticker object <GOOG>], 'enterpriseToRevenue': [yfinance.Ticker object <GOOG>, yfinance.Ticker object <AAPL>, yfinance.Ticker object <MSFT>], 'beta3Year': [yfinance.Ticker object <MSFT>, yfinance.Ticker object <AAPL>, yfinance.Ticker object <GOOG>], 'profitMargins': [yfinance.Ticker object <GOOG>, yfinance.Ticker object <AAPL>, yfinance.Ticker object <MSFT>], 'enterpriseToEbitda': [yfinance.Ticker object <GOOG>, yfinance.Ticker object <MSFT>, yfinance.Ticker object <AAPL>], '52WeekChange': [yfinance.Ticker object <GOOG>, yfinance.Ticker object <MSFT>, yfinance.Ticker object <AAPL>], 'morningStarRiskRating': [yfinance.Ticker object <MSFT>, yfinance.Ticker object <AAPL>, yfinance.Ticker object <GOOG>], 'forwardEps': [yfinance.Ticker object <MSFT>, yfinance.Ticker object <AAPL>, yfinance.Ticker object <GOOG>], 'revenueQuarterlyGrowth': [yfinance.Ticker object <MSFT>, yfinance.Ticker object <AAPL>, yfinance.Ticker object <GOOG>], 'sharesOutstanding': [yfinance.Ticker object <GOOG>, yfinance.Ticker object <AAPL>, yfinance.Ticker object <MSFT>], 'fundInceptionDate': [yfinance.Ticker object <MSFT>, yfinance.Ticker object <AAPL>, yfinance.Ticker object <GOOG>], 'annualReportExpenseRatio': [yfinance.Ticker object <MSFT>, yfinance.Ticker object <AAPL>, yfinance.Ticker object <GOOG>], 'bookValue': [yfinance.Ticker object <MSFT>, yfinance.Ticker object <AAPL>, yfinance.Ticker object <GOOG>], 'sharesShort': [yfinance.Ticker object <GOOG>, yfinance.Ticker object <AAPL>, yfinance.Ticker object <MSFT>], 'sharesPercentSharesOut': [yfinance.Ticker object <GOOG>, yfinance.Ticker object <MSFT>, yfinance.Ticker object <AAPL>], 'fundFamily': [yfinance.Ticker object <MSFT>, yfinance.Ticker object <AAPL>, yfinance.Ticker object <GOOG>], 'lastFiscalYearEnd': [yfinance.Ticker object <AAPL>, yfinance.Ticker object <GOOG>, yfinance.Ticker object <MSFT>], 'heldPercentInstitutions': [yfinance.Ticker object <AAPL>, yfinance.Ticker object <GOOG>, yfinance.Ticker object <MSFT>], 'netIncomeToCommon': [yfinance.Ticker object <GOOG>, yfinance.Ticker object <MSFT>, yfinance.Ticker object <AAPL>], 'trailingEps': [yfinance.Ticker object <MSFT>, yfinance.Ticker object <AAPL>, yfinance.Ticker object <GOOG>], 'lastDividendValue': [yfinance.Ticker object <MSFT>, yfinance.Ticker object <AAPL>, yfinance.Ticker object <GOOG>], 'SandP52WeekChange': [yfinance.Ticker object <MSFT>, yfinance.Ticker object <AAPL>, yfinance.Ticker object <GOOG>], 'priceToBook': [yfinance.Ticker object <GOOG>, yfinance.Ticker object <MSFT>, yfinance.Ticker object <AAPL>], 'heldPercentInsiders': [yfinance.Ticker object <AAPL>, yfinance.Ticker object <MSFT>, yfinance.Ticker object <GOOG>], 'nextFiscalYearEnd': [yfinance.Ticker object <AAPL>, yfinance.Ticker object <GOOG>, yfinance.Ticker object <MSFT>], 'mostRecentQuarter': [yfinance.Ticker object <AAPL>, yfinance.Ticker object <MSFT>, yfinance.Ticker object <GOOG>], 'shortRatio': [yfinance.Ticker object <AAPL>, yfinance.Ticker object <MSFT>, yfinance.Ticker object <GOOG>], 'sharesShortPreviousMonthDate': [yfinance.Ticker object <MSFT>, yfinance.Ticker object <AAPL>, yfinance.Ticker object <GOOG>], 'floatShares': [yfinance.Ticker object <GOOG>, yfinance.Ticker object <AAPL>, yfinance.Ticker object <MSFT>], 'enterpriseValue': [yfinance.Ticker object <GOOG>, yfinance.Ticker object <MSFT>, yfinance.Ticker object <AAPL>], 'threeYearAverageReturn': [yfinance.Ticker object <MSFT>, yfinance.Ticker object <AAPL>, yfinance.Ticker object <GOOG>], 'lastSplitDate': [yfinance.Ticker object <MSFT>, yfinance.Ticker object <AAPL>, yfinance.Ticker object <GOOG>], 'lastSplitFactor': [yfinance.Ticker object <GOOG>, yfinance.Ticker object <MSFT>, yfinance.Ticker object <AAPL>], 'legalType': [yfinance.Ticker object <MSFT>, yfinance.Ticker object <AAPL>, yfinance.Ticker object <GOOG>], 'morningStarOverallRating': [yfinance.Ticker object <MSFT>, yfinance.Ticker object <AAPL>, yfinance.Ticker object <GOOG>], 'earningsQuarterlyGrowth': [yfinance.Ticker object <GOOG>, yfinance.Ticker object <MSFT>, yfinance.Ticker object <AAPL>], 'dateShortInterest': [yfinance.Ticker object <MSFT>, yfinance.Ticker object <AAPL>, yfinance.Ticker object <GOOG>], 'pegRatio': [yfinance.Ticker object <MSFT>, yfinance.Ticker object <AAPL>, yfinance.Ticker object <GOOG>], 'lastCapGain': [yfinance.Ticker object <MSFT>, yfinance.Ticker object <AAPL>, yfinance.Ticker object <GOOG>], 'shortPercentOfFloat': [yfinance.Ticker object <GOOG>, yfinance.Ticker object <MSFT>, yfinance.Ticker object <AAPL>], 'sharesShortPriorMonth': [yfinance.Ticker object <GOOG>, yfinance.Ticker object <AAPL>, yfinance.Ticker object <MSFT>], 'category': [yfinance.Ticker object <MSFT>, yfinance.Ticker object <AAPL>, yfinance.Ticker object <GOOG>], 'fiveYearAverageReturn': [yfinance.Ticker object <MSFT>, yfinance.Ticker object <AAPL>, yfinance.Ticker object <GOOG>], 'regularMarketPrice': [yfinance.Ticker object <MSFT>, yfinance.Ticker object <AAPL>, yfinance.Ticker object <GOOG>], 'logo_url': [yfinance.Ticker object <GOOG>, yfinance.Ticker object <AAPL>, yfinance.Ticker object <MSFT>]}\n",
      "---- print info ----\n",
      "GOOG\n",
      "35.351707\n",
      "MSFT\n",
      "37.581596\n",
      "AAPL\n",
      "37.86879\n",
      "GOOG\n",
      "1092782260224\n",
      "MSFT\n",
      "1638169182208\n",
      "AAPL\n",
      "2134822092800\n"
     ]
    }
   ],
   "source": [
    "# for attribute in tickers.tickers[0].info:\n",
    "#     print(attribute + \" \" + attribute.value())\n",
    "print('started')\n",
    "ticker_list = [ticker for ticker in tickers.tickers]\n",
    "tickers_attributes_dict = {k:sorted(ticker_list, key=lambda val : val.info[k] if val.info[k] is not None else -1) for (k,v) in tickers.tickers[0].info.items()}\n",
    "print('ended')\n",
    "print(tickers_attributes_dict)\n",
    "\n",
    "print('---- print info ----')\n",
    "for ticker in tickers_attributes_dict['trailingPE']:\n",
    "    print(ticker.info['symbol'])\n",
    "    print(ticker.info['trailingPE'])\n",
    "\n",
    "for ticker in tickers_attributes_dict['marketCap']:\n",
    "    print(ticker.info['symbol'])\n",
    "    print(ticker.info['marketCap'])"
   ],
   "metadata": {
    "collapsed": false,
    "pycharm": {
     "name": "#%%\n"
    }
   }
  },
  {
   "cell_type": "code",
   "execution_count": 42,
   "outputs": [],
   "source": [
    "\n",
    "tickers_attributes_dict = {k:sorted([ticker for ticker in tickers.tickers], key=lambda val : val.info[k] if val.info[k] is not None else -1) for (k,v) in tickers.tickers[0].info.items()}"
   ],
   "metadata": {
    "collapsed": false,
    "pycharm": {
     "name": "#%%\n"
    }
   }
  },
  {
   "cell_type": "code",
   "execution_count": null,
   "outputs": [],
   "source": [
    "class TickerWrapper:\n",
    "    def __init__(self):\n",
    "        self.ticker = ticker\n",
    "\n",
    "\n"
   ],
   "metadata": {
    "collapsed": false,
    "pycharm": {
     "name": "#%%\n"
    }
   }
  }
 ],
 "metadata": {
  "kernelspec": {
   "display_name": "Python 3",
   "language": "python",
   "name": "python3"
  },
  "language_info": {
   "codemirror_mode": {
    "name": "ipython",
    "version": 2
   },
   "file_extension": ".py",
   "mimetype": "text/x-python",
   "name": "python",
   "nbconvert_exporter": "python",
   "pygments_lexer": "ipython2",
   "version": "2.7.6"
  }
 },
 "nbformat": 4,
 "nbformat_minor": 0
}