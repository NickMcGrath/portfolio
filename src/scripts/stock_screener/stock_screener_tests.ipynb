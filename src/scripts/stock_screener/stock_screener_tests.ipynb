{
 "cells": [
  {
   "cell_type": "code",
   "execution_count": 5,
   "metadata": {
    "collapsed": true,
    "pycharm": {
     "name": "#%%\n"
    }
   },
   "outputs": [
    {
     "name": "stdout",
     "output_type": "stream",
     "text": [
      "Empty DataFrame\n",
      "Columns: [Open, High, Low, Close, Adj Close, Volume]\n",
      "Index: []\n",
      "Empty DataFrame\n",
      "Columns: [Open, High, Low, Close, Adj Close, Volume]\n",
      "Index: []\n"
     ]
    },
    {
     "data": {
      "text/plain": "Empty DataFrame\nColumns: [Open, High, Low, Close, Adj Close, Volume]\nIndex: []",
      "text/html": "<div>\n<style scoped>\n    .dataframe tbody tr th:only-of-type {\n        vertical-align: middle;\n    }\n\n    .dataframe tbody tr th {\n        vertical-align: top;\n    }\n\n    .dataframe thead th {\n        text-align: right;\n    }\n</style>\n<table border=\"1\" class=\"dataframe\">\n  <thead>\n    <tr style=\"text-align: right;\">\n      <th></th>\n      <th>Open</th>\n      <th>High</th>\n      <th>Low</th>\n      <th>Close</th>\n      <th>Adj Close</th>\n      <th>Volume</th>\n    </tr>\n    <tr>\n      <th>Date</th>\n      <th></th>\n      <th></th>\n      <th></th>\n      <th></th>\n      <th></th>\n      <th></th>\n    </tr>\n  </thead>\n  <tbody>\n  </tbody>\n</table>\n</div>"
     },
     "execution_count": 5,
     "metadata": {},
     "output_type": "execute_result"
    }
   ],
   "source": [
    "# pip3 install lxml     needed!\n",
    "import json\n",
    "import math\n",
    "import threading\n",
    "import yfinance as yf\n",
    "\n",
    "msft = yf.Ticker(\"MSFT\")\n",
    "\n",
    "# get stock info\n",
    "msft.info\n",
    "\n",
    "print(msft.financials)\n",
    "print(msft.quarterly_financials)\n",
    "\n",
    "msft.quarterly_balance_sheet"
   ]
  },
  {
   "cell_type": "code",
   "execution_count": 9,
   "outputs": [
    {
     "name": "stdout",
     "output_type": "stream",
     "text": [
      "Empty DataFrame\n",
      "Columns: [Open, High, Low, Close, Adj Close, Volume]\n",
      "Index: []\n"
     ]
    }
   ],
   "source": [
    "print(msft.quarterly_balance_sheet)"
   ],
   "metadata": {
    "collapsed": false,
    "pycharm": {
     "name": "#%%\n"
    }
   }
  },
  {
   "cell_type": "code",
   "execution_count": 15,
   "outputs": [
    {
     "data": {
      "text/plain": "Index(['Open', 'High', 'Low', 'Close', 'Adj Close', 'Volume'], dtype='object')"
     },
     "execution_count": 15,
     "metadata": {},
     "output_type": "execute_result"
    }
   ],
   "source": [
    "import numpy as np\n",
    "import pandas as pd\n",
    "\n",
    "df = pd.DataFrame(msft.quarterly_balance_sheet)\n",
    "df.columns"
   ],
   "metadata": {
    "collapsed": false,
    "pycharm": {
     "name": "#%%\n"
    }
   }
  },
  {
   "cell_type": "code",
   "execution_count": 16,
   "outputs": [
    {
     "data": {
      "text/plain": "Empty DataFrame\nColumns: [Open, High, Low, Close, Adj Close, Volume]\nIndex: []",
      "text/html": "<div>\n<style scoped>\n    .dataframe tbody tr th:only-of-type {\n        vertical-align: middle;\n    }\n\n    .dataframe tbody tr th {\n        vertical-align: top;\n    }\n\n    .dataframe thead th {\n        text-align: right;\n    }\n</style>\n<table border=\"1\" class=\"dataframe\">\n  <thead>\n    <tr style=\"text-align: right;\">\n      <th></th>\n      <th>Open</th>\n      <th>High</th>\n      <th>Low</th>\n      <th>Close</th>\n      <th>Adj Close</th>\n      <th>Volume</th>\n    </tr>\n    <tr>\n      <th>Date</th>\n      <th></th>\n      <th></th>\n      <th></th>\n      <th></th>\n      <th></th>\n      <th></th>\n    </tr>\n  </thead>\n  <tbody>\n  </tbody>\n</table>\n</div>"
     },
     "execution_count": 16,
     "metadata": {},
     "output_type": "execute_result"
    }
   ],
   "source": [
    "msft.earnings\n",
    "\n"
   ],
   "metadata": {
    "collapsed": false,
    "pycharm": {
     "name": "#%%\n"
    }
   }
  },
  {
   "cell_type": "code",
   "execution_count": 1,
   "outputs": [
    {
     "data": {
      "text/plain": "Empty DataFrame\nColumns: [Open, High, Low, Close, Adj Close, Volume]\nIndex: []",
      "text/html": "<div>\n<style scoped>\n    .dataframe tbody tr th:only-of-type {\n        vertical-align: middle;\n    }\n\n    .dataframe tbody tr th {\n        vertical-align: top;\n    }\n\n    .dataframe thead th {\n        text-align: right;\n    }\n</style>\n<table border=\"1\" class=\"dataframe\">\n  <thead>\n    <tr style=\"text-align: right;\">\n      <th></th>\n      <th>Open</th>\n      <th>High</th>\n      <th>Low</th>\n      <th>Close</th>\n      <th>Adj Close</th>\n      <th>Volume</th>\n    </tr>\n    <tr>\n      <th>Date</th>\n      <th></th>\n      <th></th>\n      <th></th>\n      <th></th>\n      <th></th>\n      <th></th>\n    </tr>\n  </thead>\n  <tbody>\n  </tbody>\n</table>\n</div>"
     },
     "execution_count": 1,
     "metadata": {},
     "output_type": "execute_result"
    }
   ],
   "source": [
    "import yfinance as yf\n",
    "\n",
    "msft = yf.Ticker(\"MSFT\")\n",
    "msft.balance_sheet"
   ],
   "metadata": {
    "collapsed": false,
    "pycharm": {
     "name": "#%%\n"
    }
   }
  },
  {
   "cell_type": "code",
   "execution_count": 4,
   "outputs": [
    {
     "name": "stdout",
     "output_type": "stream",
     "text": [
      "[*********************100%***********************]  3 of 3 completed\n"
     ]
    }
   ],
   "source": [
    "import yfinance as yf\n",
    "\n",
    "data = yf.download(  # or pdr.get_data_yahoo(...\n",
    "        # tickers list or string as well\n",
    "        tickers = \"SPY AAPL MSFT\",\n",
    "\n",
    "        # use \"period\" instead of start/end\n",
    "        # valid periods: 1d,5d,1mo,3mo,6mo,1y,2y,5y,10y,ytd,max\n",
    "        # (optional, default is '1mo')\n",
    "        period = \"1d\",\n",
    "\n",
    "        # fetch data by interval (including intraday if period < 60 days)\n",
    "        # valid intervals: 1m,2m,5m,15m,30m,60m,90m,1h,1d,5d,1wk,1mo,3mo\n",
    "        # (optional, default is '1d')\n",
    "        interval = \"1d\",\n",
    "\n",
    "        # group by ticker (to access via data['SPY'])\n",
    "        # (optional, default is 'column')\n",
    "        group_by = 'ticker',\n",
    "\n",
    "        # adjust all OHLC automatically\n",
    "        # (optional, default is False)\n",
    "        auto_adjust = True,\n",
    "\n",
    "        # download pre/post regular market hours data\n",
    "        # (optional, default is False)\n",
    "        prepost = True,\n",
    "\n",
    "        # use threads for mass downloading? (True/False/Integer)\n",
    "        # (optional, default is True)\n",
    "        threads = True,\n",
    "\n",
    "        # proxy URL scheme use use when downloading?\n",
    "        # (optional, default is None)\n",
    "        proxy = None\n",
    "    )"
   ],
   "metadata": {
    "collapsed": false,
    "pycharm": {
     "name": "#%%\n"
    }
   }
  },
  {
   "cell_type": "code",
   "execution_count": 15,
   "outputs": [
    {
     "data": {
      "text/plain": "{'zip': '98052-6399',\n 'sector': 'Technology',\n 'fullTimeEmployees': 163000,\n 'longBusinessSummary': 'Microsoft Corporation develops, licenses, and supports software, services, devices, and solutions worldwide. Its Productivity and Business Processes segment offers Office, Exchange, SharePoint, Microsoft Teams, Office 365 Security and Compliance, and Skype for Business, as well as related Client Access Licenses (CAL); Skype, Outlook.com, and OneDrive; LinkedIn that includes Talent, Learning, Sales, and Marketing solutions, as well as premium subscriptions; and Dynamics 365, a set of cloud-based and on-premises business solutions for small and medium businesses, large organizations, and divisions of enterprises. Its Intelligent Cloud segment licenses SQL and Windows Servers, Visual Studio, System Center, and related CALs; GitHub that provides a collaboration platform and code hosting service for developers; and Azure, a cloud platform. It also offers support services and Microsoft consulting services to assist customers in developing, deploying, and managing Microsoft server and desktop solutions; and training and certification to developers and IT professionals on various Microsoft products. Its More Personal Computing segment provides Windows original equipment manufacturer (OEM) licensing and other non-volume licensing of the Windows operating system; Windows Commercial, such as volume licensing of the Windows operating system, Windows cloud services, and other Windows commercial offerings; patent licensing; Windows Internet of Things; and MSN advertising. It also offers Surface, PC accessories, PCs, tablets, gaming and entertainment consoles, and other intelligent devices; Gaming, including Xbox hardware, and Xbox content and services; video games and third-party video game royalties; and Search, including Bing and Microsoft advertising. It sells its products through OEMs, distributors, and resellers; and directly through digital marketplaces, online stores, and retail stores. The company was founded in 1975 and is headquartered in Redmond, Washington.',\n 'city': 'Redmond',\n 'phone': '425-882-8080',\n 'state': 'WA',\n 'country': 'United States',\n 'companyOfficers': [],\n 'website': 'http://www.microsoft.com',\n 'maxAge': 1,\n 'address1': 'One Microsoft Way',\n 'industry': 'Software—Infrastructure',\n 'previousClose': 214.58,\n 'regularMarketOpen': 213.86,\n 'twoHundredDayAverage': 183.87259,\n 'trailingAnnualDividendYield': 0.009506944,\n 'payoutRatio': 0.3455,\n 'volume24Hr': None,\n 'regularMarketDayHigh': 216.245,\n 'navPrice': None,\n 'averageDailyVolume10Day': 24690014,\n 'totalAssets': None,\n 'regularMarketPreviousClose': 214.58,\n 'fiftyDayAverage': 208.96857,\n 'trailingAnnualDividendRate': 2.04,\n 'open': 213.86,\n 'toCurrency': None,\n 'averageVolume10days': 24690014,\n 'expireDate': None,\n 'yield': None,\n 'algorithm': None,\n 'dividendRate': 2.04,\n 'exDividendDate': 1597795200,\n 'beta': 0.903846,\n 'circulatingSupply': None,\n 'startDate': None,\n 'regularMarketDayLow': 212.85,\n 'priceHint': 2,\n 'currency': 'USD',\n 'trailingPE': 36.98264,\n 'regularMarketVolume': 36249319,\n 'lastMarket': None,\n 'maxSupply': None,\n 'openInterest': None,\n 'marketCap': 1612060819456,\n 'volumeAllCurrencies': None,\n 'strikePrice': None,\n 'averageVolume': 34580412,\n 'priceToSalesTrailing12Months': 11.27197,\n 'dayLow': 212.85,\n 'ask': 214.77,\n 'ytdReturn': None,\n 'askSize': 1400,\n 'volume': 36249319,\n 'fiftyTwoWeekHigh': 217.64,\n 'forwardPE': 29.0218,\n 'fromCurrency': None,\n 'fiveYearAvgDividendYield': 1.87,\n 'fiftyTwoWeekLow': 132.52,\n 'bid': 214.66,\n 'tradeable': False,\n 'dividendYield': 0.0095,\n 'bidSize': 1000,\n 'dayHigh': 216.245,\n 'exchange': 'NMS',\n 'shortName': 'Microsoft Corporation',\n 'longName': 'Microsoft Corporation',\n 'exchangeTimezoneName': 'America/New_York',\n 'exchangeTimezoneShortName': 'EDT',\n 'isEsgPopulated': False,\n 'gmtOffSetMilliseconds': '-14400000',\n 'quoteType': 'EQUITY',\n 'symbol': 'MSFT',\n 'messageBoardId': 'finmb_21835',\n 'market': 'us_market',\n 'annualHoldingsTurnover': None,\n 'enterpriseToRevenue': 10.892,\n 'beta3Year': None,\n 'profitMargins': 0.30962,\n 'enterpriseToEbitda': 23.869,\n '52WeekChange': 0.5726837,\n 'morningStarRiskRating': None,\n 'forwardEps': 7.34,\n 'revenueQuarterlyGrowth': None,\n 'sharesOutstanding': 7567649792,\n 'fundInceptionDate': None,\n 'annualReportExpenseRatio': None,\n 'bookValue': 15.626,\n 'sharesShort': 36472205,\n 'sharesPercentSharesOut': 0.0047999998,\n 'fundFamily': None,\n 'lastFiscalYearEnd': 1593475200,\n 'heldPercentInstitutions': 0.74093,\n 'netIncomeToCommon': 44280999936,\n 'trailingEps': 5.76,\n 'lastDividendValue': None,\n 'SandP52WeekChange': 0.18023336,\n 'priceToBook': 13.632407,\n 'heldPercentInsiders': 0.014249999,\n 'nextFiscalYearEnd': 1656547200,\n 'mostRecentQuarter': 1593475200,\n 'shortRatio': 1.04,\n 'sharesShortPreviousMonthDate': 1593475200,\n 'floatShares': 7455954378,\n 'enterpriseValue': 1557679439872,\n 'threeYearAverageReturn': None,\n 'lastSplitDate': 1045526400,\n 'lastSplitFactor': '2:1',\n 'legalType': None,\n 'morningStarOverallRating': None,\n 'earningsQuarterlyGrowth': -0.151,\n 'dateShortInterest': 1596153600,\n 'pegRatio': 2.21,\n 'lastCapGain': None,\n 'shortPercentOfFloat': 0.0049,\n 'sharesShortPriorMonth': 43132952,\n 'category': None,\n 'fiveYearAverageReturn': None,\n 'regularMarketPrice': 213.86,\n 'logo_url': 'https://logo.clearbit.com/microsoft.com'}"
     },
     "execution_count": 15,
     "metadata": {},
     "output_type": "execute_result"
    }
   ],
   "source": [
    "import yfinance as yf\n",
    "\n",
    "tickers = yf.Tickers('msft aapl goog')\n",
    "# ^ returns a named tuple of Ticker objects\n",
    "\n",
    "# access each ticker using (example)\n",
    "tickers.tickers.MSFT.info"
   ],
   "metadata": {
    "collapsed": false,
    "pycharm": {
     "name": "#%%\n"
    }
   }
  },
  {
   "cell_type": "code",
   "execution_count": 26,
   "outputs": [
    {
     "name": "stdout",
     "output_type": "stream",
     "text": [
      "MSFT\n",
      "AAPL\n",
      "GOOG\n"
     ]
    }
   ],
   "source": [
    "for ticker in tickers.tickers:\n",
    "    print(ticker.info['symbol'])"
   ],
   "metadata": {
    "collapsed": false,
    "pycharm": {
     "name": "#%%\n"
    }
   }
  },
  {
   "cell_type": "code",
   "execution_count": 7,
   "outputs": [
    {
     "name": "stdout",
     "output_type": "stream",
     "text": [
      "---- print info ----\n",
      "MSFT\n",
      "37.581596\n",
      "AAPL\n",
      "37.86879\n",
      "GOOG\n",
      "35.351707\n",
      "---- print info ----\n",
      "GOOG\n",
      "35.351707\n",
      "MSFT\n",
      "37.581596\n",
      "AAPL\n",
      "37.86879\n"
     ]
    }
   ],
   "source": [
    "import yfinance as yf\n",
    "\n",
    "tickers = yf.Tickers('msft aapl goog')\n",
    "\n",
    "def print_info(ticker_list):\n",
    "    print('---- print info ----')\n",
    "    for ticker in ticker_list:\n",
    "        print(ticker.info['symbol'])\n",
    "        print(ticker.info['trailingPE'])\n",
    "\n",
    "ticker_list = [ticker for ticker in tickers.tickers]\n",
    "print_info(ticker_list)\n",
    "ticker_list.sort(key=lambda val : val.info['trailingPE'])\n",
    "print_info(ticker_list)"
   ],
   "metadata": {
    "collapsed": false,
    "pycharm": {
     "name": "#%%\n"
    }
   }
  },
  {
   "cell_type": "code",
   "execution_count": 4,
   "outputs": [
    {
     "name": "stdout",
     "output_type": "stream",
     "text": [
      "<class 'yfinance.tickers.Tickers'>\n"
     ]
    }
   ],
   "source": [
    "print(type(tickers.tickers))"
   ],
   "metadata": {
    "collapsed": false,
    "pycharm": {
     "name": "#%%\n"
    }
   }
  },
  {
   "cell_type": "code",
   "execution_count": 41,
   "outputs": [
    {
     "name": "stdout",
     "output_type": "stream",
     "text": [
      "started\n",
      "ended\n",
      "{'zip': [yfinance.Ticker object <GOOG>, yfinance.Ticker object <AAPL>, yfinance.Ticker object <MSFT>], 'sector': [yfinance.Ticker object <GOOG>, yfinance.Ticker object <MSFT>, yfinance.Ticker object <AAPL>], 'fullTimeEmployees': [yfinance.Ticker object <GOOG>, yfinance.Ticker object <AAPL>, yfinance.Ticker object <MSFT>], 'longBusinessSummary': [yfinance.Ticker object <GOOG>, yfinance.Ticker object <AAPL>, yfinance.Ticker object <MSFT>], 'city': [yfinance.Ticker object <AAPL>, yfinance.Ticker object <GOOG>, yfinance.Ticker object <MSFT>], 'phone': [yfinance.Ticker object <AAPL>, yfinance.Ticker object <MSFT>, yfinance.Ticker object <GOOG>], 'state': [yfinance.Ticker object <AAPL>, yfinance.Ticker object <GOOG>, yfinance.Ticker object <MSFT>], 'country': [yfinance.Ticker object <MSFT>, yfinance.Ticker object <AAPL>, yfinance.Ticker object <GOOG>], 'companyOfficers': [yfinance.Ticker object <MSFT>, yfinance.Ticker object <AAPL>, yfinance.Ticker object <GOOG>], 'website': [yfinance.Ticker object <GOOG>, yfinance.Ticker object <AAPL>, yfinance.Ticker object <MSFT>], 'maxAge': [yfinance.Ticker object <MSFT>, yfinance.Ticker object <AAPL>, yfinance.Ticker object <GOOG>], 'address1': [yfinance.Ticker object <GOOG>, yfinance.Ticker object <AAPL>, yfinance.Ticker object <MSFT>], 'industry': [yfinance.Ticker object <AAPL>, yfinance.Ticker object <GOOG>, yfinance.Ticker object <MSFT>], 'previousClose': [yfinance.Ticker object <MSFT>, yfinance.Ticker object <AAPL>, yfinance.Ticker object <GOOG>], 'regularMarketOpen': [yfinance.Ticker object <MSFT>, yfinance.Ticker object <AAPL>, yfinance.Ticker object <GOOG>], 'twoHundredDayAverage': [yfinance.Ticker object <MSFT>, yfinance.Ticker object <AAPL>, yfinance.Ticker object <GOOG>], 'trailingAnnualDividendYield': [yfinance.Ticker object <GOOG>, yfinance.Ticker object <AAPL>, yfinance.Ticker object <MSFT>], 'payoutRatio': [yfinance.Ticker object <GOOG>, yfinance.Ticker object <AAPL>, yfinance.Ticker object <MSFT>], 'volume24Hr': [yfinance.Ticker object <MSFT>, yfinance.Ticker object <AAPL>, yfinance.Ticker object <GOOG>], 'regularMarketDayHigh': [yfinance.Ticker object <MSFT>, yfinance.Ticker object <AAPL>, yfinance.Ticker object <GOOG>], 'navPrice': [yfinance.Ticker object <MSFT>, yfinance.Ticker object <AAPL>, yfinance.Ticker object <GOOG>], 'averageDailyVolume10Day': [yfinance.Ticker object <GOOG>, yfinance.Ticker object <MSFT>, yfinance.Ticker object <AAPL>], 'totalAssets': [yfinance.Ticker object <MSFT>, yfinance.Ticker object <AAPL>, yfinance.Ticker object <GOOG>], 'regularMarketPreviousClose': [yfinance.Ticker object <MSFT>, yfinance.Ticker object <AAPL>, yfinance.Ticker object <GOOG>], 'fiftyDayAverage': [yfinance.Ticker object <MSFT>, yfinance.Ticker object <AAPL>, yfinance.Ticker object <GOOG>], 'trailingAnnualDividendRate': [yfinance.Ticker object <GOOG>, yfinance.Ticker object <MSFT>, yfinance.Ticker object <AAPL>], 'open': [yfinance.Ticker object <MSFT>, yfinance.Ticker object <AAPL>, yfinance.Ticker object <GOOG>], 'toCurrency': [yfinance.Ticker object <MSFT>, yfinance.Ticker object <AAPL>, yfinance.Ticker object <GOOG>], 'averageVolume10days': [yfinance.Ticker object <GOOG>, yfinance.Ticker object <MSFT>, yfinance.Ticker object <AAPL>], 'expireDate': [yfinance.Ticker object <MSFT>, yfinance.Ticker object <AAPL>, yfinance.Ticker object <GOOG>], 'yield': [yfinance.Ticker object <MSFT>, yfinance.Ticker object <AAPL>, yfinance.Ticker object <GOOG>], 'algorithm': [yfinance.Ticker object <MSFT>, yfinance.Ticker object <AAPL>, yfinance.Ticker object <GOOG>], 'dividendRate': [yfinance.Ticker object <GOOG>, yfinance.Ticker object <MSFT>, yfinance.Ticker object <AAPL>], 'exDividendDate': [yfinance.Ticker object <GOOG>, yfinance.Ticker object <AAPL>, yfinance.Ticker object <MSFT>], 'beta': [yfinance.Ticker object <MSFT>, yfinance.Ticker object <GOOG>, yfinance.Ticker object <AAPL>], 'circulatingSupply': [yfinance.Ticker object <MSFT>, yfinance.Ticker object <AAPL>, yfinance.Ticker object <GOOG>], 'startDate': [yfinance.Ticker object <MSFT>, yfinance.Ticker object <AAPL>, yfinance.Ticker object <GOOG>], 'regularMarketDayLow': [yfinance.Ticker object <MSFT>, yfinance.Ticker object <AAPL>, yfinance.Ticker object <GOOG>], 'priceHint': [yfinance.Ticker object <MSFT>, yfinance.Ticker object <AAPL>, yfinance.Ticker object <GOOG>], 'currency': [yfinance.Ticker object <MSFT>, yfinance.Ticker object <AAPL>, yfinance.Ticker object <GOOG>], 'trailingPE': [yfinance.Ticker object <GOOG>, yfinance.Ticker object <MSFT>, yfinance.Ticker object <AAPL>], 'regularMarketVolume': [yfinance.Ticker object <GOOG>, yfinance.Ticker object <MSFT>, yfinance.Ticker object <AAPL>], 'lastMarket': [yfinance.Ticker object <MSFT>, yfinance.Ticker object <AAPL>, yfinance.Ticker object <GOOG>], 'maxSupply': [yfinance.Ticker object <MSFT>, yfinance.Ticker object <AAPL>, yfinance.Ticker object <GOOG>], 'openInterest': [yfinance.Ticker object <MSFT>, yfinance.Ticker object <AAPL>, yfinance.Ticker object <GOOG>], 'marketCap': [yfinance.Ticker object <GOOG>, yfinance.Ticker object <MSFT>, yfinance.Ticker object <AAPL>], 'volumeAllCurrencies': [yfinance.Ticker object <MSFT>, yfinance.Ticker object <AAPL>, yfinance.Ticker object <GOOG>], 'strikePrice': [yfinance.Ticker object <MSFT>, yfinance.Ticker object <AAPL>, yfinance.Ticker object <GOOG>], 'averageVolume': [yfinance.Ticker object <GOOG>, yfinance.Ticker object <MSFT>, yfinance.Ticker object <AAPL>], 'priceToSalesTrailing12Months': [yfinance.Ticker object <GOOG>, yfinance.Ticker object <AAPL>, yfinance.Ticker object <MSFT>], 'dayLow': [yfinance.Ticker object <MSFT>, yfinance.Ticker object <AAPL>, yfinance.Ticker object <GOOG>], 'ask': [yfinance.Ticker object <MSFT>, yfinance.Ticker object <AAPL>, yfinance.Ticker object <GOOG>], 'ytdReturn': [yfinance.Ticker object <MSFT>, yfinance.Ticker object <AAPL>, yfinance.Ticker object <GOOG>], 'askSize': [yfinance.Ticker object <GOOG>, yfinance.Ticker object <MSFT>, yfinance.Ticker object <AAPL>], 'volume': [yfinance.Ticker object <GOOG>, yfinance.Ticker object <MSFT>, yfinance.Ticker object <AAPL>], 'fiftyTwoWeekHigh': [yfinance.Ticker object <MSFT>, yfinance.Ticker object <AAPL>, yfinance.Ticker object <GOOG>], 'forwardPE': [yfinance.Ticker object <GOOG>, yfinance.Ticker object <MSFT>, yfinance.Ticker object <AAPL>], 'fromCurrency': [yfinance.Ticker object <MSFT>, yfinance.Ticker object <AAPL>, yfinance.Ticker object <GOOG>], 'fiveYearAvgDividendYield': [yfinance.Ticker object <GOOG>, yfinance.Ticker object <AAPL>, yfinance.Ticker object <MSFT>], 'fiftyTwoWeekLow': [yfinance.Ticker object <MSFT>, yfinance.Ticker object <AAPL>, yfinance.Ticker object <GOOG>], 'bid': [yfinance.Ticker object <MSFT>, yfinance.Ticker object <AAPL>, yfinance.Ticker object <GOOG>], 'tradeable': [yfinance.Ticker object <MSFT>, yfinance.Ticker object <AAPL>, yfinance.Ticker object <GOOG>], 'dividendYield': [yfinance.Ticker object <GOOG>, yfinance.Ticker object <AAPL>, yfinance.Ticker object <MSFT>], 'bidSize': [yfinance.Ticker object <MSFT>, yfinance.Ticker object <AAPL>, yfinance.Ticker object <GOOG>], 'dayHigh': [yfinance.Ticker object <MSFT>, yfinance.Ticker object <AAPL>, yfinance.Ticker object <GOOG>], 'exchange': [yfinance.Ticker object <MSFT>, yfinance.Ticker object <AAPL>, yfinance.Ticker object <GOOG>], 'shortName': [yfinance.Ticker object <GOOG>, yfinance.Ticker object <AAPL>, yfinance.Ticker object <MSFT>], 'longName': [yfinance.Ticker object <GOOG>, yfinance.Ticker object <AAPL>, yfinance.Ticker object <MSFT>], 'exchangeTimezoneName': [yfinance.Ticker object <MSFT>, yfinance.Ticker object <AAPL>, yfinance.Ticker object <GOOG>], 'exchangeTimezoneShortName': [yfinance.Ticker object <MSFT>, yfinance.Ticker object <AAPL>, yfinance.Ticker object <GOOG>], 'isEsgPopulated': [yfinance.Ticker object <MSFT>, yfinance.Ticker object <AAPL>, yfinance.Ticker object <GOOG>], 'gmtOffSetMilliseconds': [yfinance.Ticker object <MSFT>, yfinance.Ticker object <AAPL>, yfinance.Ticker object <GOOG>], 'quoteType': [yfinance.Ticker object <MSFT>, yfinance.Ticker object <AAPL>, yfinance.Ticker object <GOOG>], 'symbol': [yfinance.Ticker object <AAPL>, yfinance.Ticker object <GOOG>, yfinance.Ticker object <MSFT>], 'messageBoardId': [yfinance.Ticker object <MSFT>, yfinance.Ticker object <AAPL>, yfinance.Ticker object <GOOG>], 'market': [yfinance.Ticker object <MSFT>, yfinance.Ticker object <AAPL>, yfinance.Ticker object <GOOG>], 'annualHoldingsTurnover': [yfinance.Ticker object <MSFT>, yfinance.Ticker object <AAPL>, yfinance.Ticker object <GOOG>], 'enterpriseToRevenue': [yfinance.Ticker object <GOOG>, yfinance.Ticker object <AAPL>, yfinance.Ticker object <MSFT>], 'beta3Year': [yfinance.Ticker object <MSFT>, yfinance.Ticker object <AAPL>, yfinance.Ticker object <GOOG>], 'profitMargins': [yfinance.Ticker object <GOOG>, yfinance.Ticker object <AAPL>, yfinance.Ticker object <MSFT>], 'enterpriseToEbitda': [yfinance.Ticker object <GOOG>, yfinance.Ticker object <MSFT>, yfinance.Ticker object <AAPL>], '52WeekChange': [yfinance.Ticker object <GOOG>, yfinance.Ticker object <MSFT>, yfinance.Ticker object <AAPL>], 'morningStarRiskRating': [yfinance.Ticker object <MSFT>, yfinance.Ticker object <AAPL>, yfinance.Ticker object <GOOG>], 'forwardEps': [yfinance.Ticker object <MSFT>, yfinance.Ticker object <AAPL>, yfinance.Ticker object <GOOG>], 'revenueQuarterlyGrowth': [yfinance.Ticker object <MSFT>, yfinance.Ticker object <AAPL>, yfinance.Ticker object <GOOG>], 'sharesOutstanding': [yfinance.Ticker object <GOOG>, yfinance.Ticker object <AAPL>, yfinance.Ticker object <MSFT>], 'fundInceptionDate': [yfinance.Ticker object <MSFT>, yfinance.Ticker object <AAPL>, yfinance.Ticker object <GOOG>], 'annualReportExpenseRatio': [yfinance.Ticker object <MSFT>, yfinance.Ticker object <AAPL>, yfinance.Ticker object <GOOG>], 'bookValue': [yfinance.Ticker object <MSFT>, yfinance.Ticker object <AAPL>, yfinance.Ticker object <GOOG>], 'sharesShort': [yfinance.Ticker object <GOOG>, yfinance.Ticker object <AAPL>, yfinance.Ticker object <MSFT>], 'sharesPercentSharesOut': [yfinance.Ticker object <GOOG>, yfinance.Ticker object <MSFT>, yfinance.Ticker object <AAPL>], 'fundFamily': [yfinance.Ticker object <MSFT>, yfinance.Ticker object <AAPL>, yfinance.Ticker object <GOOG>], 'lastFiscalYearEnd': [yfinance.Ticker object <AAPL>, yfinance.Ticker object <GOOG>, yfinance.Ticker object <MSFT>], 'heldPercentInstitutions': [yfinance.Ticker object <AAPL>, yfinance.Ticker object <GOOG>, yfinance.Ticker object <MSFT>], 'netIncomeToCommon': [yfinance.Ticker object <GOOG>, yfinance.Ticker object <MSFT>, yfinance.Ticker object <AAPL>], 'trailingEps': [yfinance.Ticker object <MSFT>, yfinance.Ticker object <AAPL>, yfinance.Ticker object <GOOG>], 'lastDividendValue': [yfinance.Ticker object <MSFT>, yfinance.Ticker object <AAPL>, yfinance.Ticker object <GOOG>], 'SandP52WeekChange': [yfinance.Ticker object <MSFT>, yfinance.Ticker object <AAPL>, yfinance.Ticker object <GOOG>], 'priceToBook': [yfinance.Ticker object <GOOG>, yfinance.Ticker object <MSFT>, yfinance.Ticker object <AAPL>], 'heldPercentInsiders': [yfinance.Ticker object <AAPL>, yfinance.Ticker object <MSFT>, yfinance.Ticker object <GOOG>], 'nextFiscalYearEnd': [yfinance.Ticker object <AAPL>, yfinance.Ticker object <GOOG>, yfinance.Ticker object <MSFT>], 'mostRecentQuarter': [yfinance.Ticker object <AAPL>, yfinance.Ticker object <MSFT>, yfinance.Ticker object <GOOG>], 'shortRatio': [yfinance.Ticker object <AAPL>, yfinance.Ticker object <MSFT>, yfinance.Ticker object <GOOG>], 'sharesShortPreviousMonthDate': [yfinance.Ticker object <MSFT>, yfinance.Ticker object <AAPL>, yfinance.Ticker object <GOOG>], 'floatShares': [yfinance.Ticker object <GOOG>, yfinance.Ticker object <AAPL>, yfinance.Ticker object <MSFT>], 'enterpriseValue': [yfinance.Ticker object <GOOG>, yfinance.Ticker object <MSFT>, yfinance.Ticker object <AAPL>], 'threeYearAverageReturn': [yfinance.Ticker object <MSFT>, yfinance.Ticker object <AAPL>, yfinance.Ticker object <GOOG>], 'lastSplitDate': [yfinance.Ticker object <MSFT>, yfinance.Ticker object <AAPL>, yfinance.Ticker object <GOOG>], 'lastSplitFactor': [yfinance.Ticker object <GOOG>, yfinance.Ticker object <MSFT>, yfinance.Ticker object <AAPL>], 'legalType': [yfinance.Ticker object <MSFT>, yfinance.Ticker object <AAPL>, yfinance.Ticker object <GOOG>], 'morningStarOverallRating': [yfinance.Ticker object <MSFT>, yfinance.Ticker object <AAPL>, yfinance.Ticker object <GOOG>], 'earningsQuarterlyGrowth': [yfinance.Ticker object <GOOG>, yfinance.Ticker object <MSFT>, yfinance.Ticker object <AAPL>], 'dateShortInterest': [yfinance.Ticker object <MSFT>, yfinance.Ticker object <AAPL>, yfinance.Ticker object <GOOG>], 'pegRatio': [yfinance.Ticker object <MSFT>, yfinance.Ticker object <AAPL>, yfinance.Ticker object <GOOG>], 'lastCapGain': [yfinance.Ticker object <MSFT>, yfinance.Ticker object <AAPL>, yfinance.Ticker object <GOOG>], 'shortPercentOfFloat': [yfinance.Ticker object <GOOG>, yfinance.Ticker object <MSFT>, yfinance.Ticker object <AAPL>], 'sharesShortPriorMonth': [yfinance.Ticker object <GOOG>, yfinance.Ticker object <AAPL>, yfinance.Ticker object <MSFT>], 'category': [yfinance.Ticker object <MSFT>, yfinance.Ticker object <AAPL>, yfinance.Ticker object <GOOG>], 'fiveYearAverageReturn': [yfinance.Ticker object <MSFT>, yfinance.Ticker object <AAPL>, yfinance.Ticker object <GOOG>], 'regularMarketPrice': [yfinance.Ticker object <MSFT>, yfinance.Ticker object <AAPL>, yfinance.Ticker object <GOOG>], 'logo_url': [yfinance.Ticker object <GOOG>, yfinance.Ticker object <AAPL>, yfinance.Ticker object <MSFT>]}\n",
      "---- print info ----\n",
      "GOOG\n",
      "35.351707\n",
      "MSFT\n",
      "37.581596\n",
      "AAPL\n",
      "37.86879\n",
      "GOOG\n",
      "1092782260224\n",
      "MSFT\n",
      "1638169182208\n",
      "AAPL\n",
      "2134822092800\n"
     ]
    }
   ],
   "source": [
    "# for attribute in tickers.tickers[0].info:\n",
    "#     print(attribute + \" \" + attribute.value())\n",
    "print('started')\n",
    "ticker_list = [ticker for ticker in tickers.tickers]\n",
    "tickers_attributes_dict = {k:sorted(ticker_list, key=lambda val : val.info[k] if val.info[k] is not None else -1) for (k,v) in tickers.tickers[0].info.items()}\n",
    "print('ended')\n",
    "print(tickers_attributes_dict)\n",
    "\n",
    "print('---- print info ----')\n",
    "for ticker in tickers_attributes_dict['trailingPE']:\n",
    "    print(ticker.info['symbol'])\n",
    "    print(ticker.info['trailingPE'])\n",
    "\n",
    "for ticker in tickers_attributes_dict['marketCap']:\n",
    "    print(ticker.info['symbol'])\n",
    "    print(ticker.info['marketCap'])"
   ],
   "metadata": {
    "collapsed": false,
    "pycharm": {
     "name": "#%%\n"
    }
   }
  },
  {
   "cell_type": "code",
   "execution_count": 42,
   "outputs": [],
   "source": [
    "\n",
    "tickers_attributes_dict = {k:sorted([ticker for ticker in tickers.tickers], key=lambda val : val.info[k] if val.info[k] is not None else -1) for (k,v) in tickers.tickers[0].info.items()}"
   ],
   "metadata": {
    "collapsed": false,
    "pycharm": {
     "name": "#%%\n"
    }
   }
  },
  {
   "cell_type": "code",
   "execution_count": 23,
   "outputs": [
    {
     "name": "stdout",
     "output_type": "stream",
     "text": [
      "{'zip': '98052-6399', 'sector': 'Technology', 'fullTimeEmployees': 163000, 'longBusinessSummary': 'Microsoft Corporation develops, licenses, and supports software, services, devices, and solutions worldwide. Its Productivity and Business Processes segment offers Office, Exchange, SharePoint, Microsoft Teams, Office 365 Security and Compliance, and Skype for Business, as well as related Client Access Licenses (CAL); Skype, Outlook.com, and OneDrive; LinkedIn that includes Talent, Learning, Sales, and Marketing solutions, as well as premium subscriptions; and Dynamics 365, a set of cloud-based and on-premises business solutions for small and medium businesses, large organizations, and divisions of enterprises. Its Intelligent Cloud segment licenses SQL and Windows Servers, Visual Studio, System Center, and related CALs; GitHub that provides a collaboration platform and code hosting service for developers; and Azure, a cloud platform. It also offers support services and Microsoft consulting services to assist customers in developing, deploying, and managing Microsoft server and desktop solutions; and training and certification to developers and IT professionals on various Microsoft products. Its More Personal Computing segment provides Windows original equipment manufacturer (OEM) licensing and other non-volume licensing of the Windows operating system; Windows Commercial, such as volume licensing of the Windows operating system, Windows cloud services, and other Windows commercial offerings; patent licensing; Windows Internet of Things; and MSN advertising. It also offers Surface, PC accessories, PCs, tablets, gaming and entertainment consoles, and other intelligent devices; Gaming, including Xbox hardware, and Xbox content and services; video games and third-party video game royalties; and Search, including Bing and Microsoft advertising. It sells its products through OEMs, distributors, and resellers; and directly through digital marketplaces, online stores, and retail stores. The company was founded in 1975 and is headquartered in Redmond, Washington.', 'city': 'Redmond', 'phone': '425-882-8080', 'state': 'WA', 'country': 'United States', 'companyOfficers': [], 'website': 'http://www.microsoft.com', 'maxAge': 1, 'address1': 'One Microsoft Way', 'industry': 'Software—Infrastructure', 'previousClose': 221.15, 'regularMarketOpen': 222.89, 'twoHundredDayAverage': 184.62, 'trailingAnnualDividendYield': 0.009224508, 'payoutRatio': 0.3455, 'volume24Hr': None, 'regularMarketDayHigh': 231.15, 'navPrice': None, 'averageDailyVolume10Day': 27554462, 'totalAssets': None, 'regularMarketPreviousClose': 221.15, 'fiftyDayAverage': 209.61833, 'trailingAnnualDividendRate': 2.04, 'open': 222.89, 'toCurrency': None, 'averageVolume10days': 27554462, 'expireDate': None, 'yield': None, 'algorithm': None, 'dividendRate': 2.04, 'exDividendDate': 1597795200, 'beta': 0.903846, 'circulatingSupply': None, 'startDate': None, 'regularMarketDayLow': 219.4, 'priceHint': 2, 'currency': 'USD', 'trailingPE': 39.336803, 'regularMarketVolume': 57602195, 'lastMarket': None, 'maxSupply': None, 'openInterest': None, 'marketCap': 1714678136832, 'volumeAllCurrencies': None, 'strikePrice': None, 'averageVolume': 34317627, 'priceToSalesTrailing12Months': 11.989498, 'dayLow': 219.4, 'ask': 228.7, 'ytdReturn': None, 'askSize': 1300, 'volume': 57602195, 'fiftyTwoWeekHigh': 231.15, 'forwardPE': 30.86921, 'fromCurrency': None, 'fiveYearAvgDividendYield': 1.87, 'fiftyTwoWeekLow': 132.52, 'bid': 228.35, 'tradeable': False, 'dividendYield': 0.0092, 'bidSize': 1200, 'dayHigh': 231.15, 'exchange': 'NMS', 'shortName': 'Microsoft Corporation', 'longName': 'Microsoft Corporation', 'exchangeTimezoneName': 'America/New_York', 'exchangeTimezoneShortName': 'EDT', 'isEsgPopulated': False, 'gmtOffSetMilliseconds': '-14400000', 'quoteType': 'EQUITY', 'symbol': 'MSFT', 'messageBoardId': 'finmb_21835', 'market': 'us_market', 'annualHoldingsTurnover': None, 'enterpriseToRevenue': 11.322, 'beta3Year': None, 'profitMargins': 0.30962, 'enterpriseToEbitda': 24.812, '52WeekChange': 0.60114396, 'morningStarRiskRating': None, 'forwardEps': 7.34, 'revenueQuarterlyGrowth': None, 'sharesOutstanding': 7567649792, 'fundInceptionDate': None, 'annualReportExpenseRatio': None, 'bookValue': 15.626, 'sharesShort': 29634174, 'sharesPercentSharesOut': 0.0039, 'fundFamily': None, 'lastFiscalYearEnd': 1593475200, 'heldPercentInstitutions': 0.74093, 'netIncomeToCommon': 44280999936, 'trailingEps': 5.76, 'lastDividendValue': None, 'SandP52WeekChange': 0.18948019, 'priceToBook': 14.500192, 'heldPercentInsiders': 0.014249999, 'nextFiscalYearEnd': 1656547200, 'mostRecentQuarter': 1593475200, 'shortRatio': 0.82, 'sharesShortPreviousMonthDate': 1594771200, 'floatShares': 7455954378, 'enterpriseValue': 1619204505600, 'threeYearAverageReturn': None, 'lastSplitDate': 1045526400, 'lastSplitFactor': '2:1', 'legalType': None, 'morningStarOverallRating': None, 'earningsQuarterlyGrowth': -0.151, 'dateShortInterest': 1597363200, 'pegRatio': 2.21, 'lastCapGain': None, 'shortPercentOfFloat': 0.004, 'sharesShortPriorMonth': 39894144, 'category': None, 'fiveYearAverageReturn': None, 'regularMarketPrice': 222.89, 'logo_url': 'https://logo.clearbit.com/microsoft.com'}\n"
     ]
    },
    {
     "ename": "KeyError",
     "evalue": "'regularMarketOpen'",
     "output_type": "error",
     "traceback": [
      "\u001B[1;31m---------------------------------------------------------------------------\u001B[0m",
      "\u001B[1;31mKeyError\u001B[0m                                  Traceback (most recent call last)",
      "\u001B[1;32m<ipython-input-23-cbfc4a64d129>\u001B[0m in \u001B[0;36m<module>\u001B[1;34m\u001B[0m\n\u001B[0;32m     33\u001B[0m \u001B[1;33m\u001B[0m\u001B[0m\n\u001B[0;32m     34\u001B[0m \u001B[1;33m\u001B[0m\u001B[0m\n\u001B[1;32m---> 35\u001B[1;33m \u001B[0msuper_class\u001B[0m \u001B[1;33m=\u001B[0m \u001B[0mSuperClass\u001B[0m\u001B[1;33m(\u001B[0m\u001B[1;33m[\u001B[0m\u001B[1;34m'msft'\u001B[0m\u001B[1;33m,\u001B[0m\u001B[1;34m'appl'\u001B[0m\u001B[1;33m,\u001B[0m \u001B[1;34m'goog'\u001B[0m\u001B[1;33m]\u001B[0m\u001B[1;33m)\u001B[0m\u001B[1;33m\u001B[0m\u001B[1;33m\u001B[0m\u001B[0m\n\u001B[0m\u001B[0;32m     36\u001B[0m \u001B[0mprint\u001B[0m\u001B[1;33m(\u001B[0m\u001B[1;34m'done'\u001B[0m\u001B[1;33m)\u001B[0m\u001B[1;33m\u001B[0m\u001B[1;33m\u001B[0m\u001B[0m\n\u001B[0;32m     37\u001B[0m \u001B[1;33m\u001B[0m\u001B[0m\n",
      "\u001B[1;32m<ipython-input-23-cbfc4a64d129>\u001B[0m in \u001B[0;36m__init__\u001B[1;34m(self, ticker_list)\u001B[0m\n\u001B[0;32m     10\u001B[0m \u001B[1;32mclass\u001B[0m \u001B[0mSuperClass\u001B[0m\u001B[1;33m:\u001B[0m\u001B[1;33m\u001B[0m\u001B[1;33m\u001B[0m\u001B[0m\n\u001B[0;32m     11\u001B[0m     \u001B[1;32mdef\u001B[0m \u001B[0m__init__\u001B[0m\u001B[1;33m(\u001B[0m\u001B[0mself\u001B[0m\u001B[1;33m,\u001B[0m \u001B[0mticker_list\u001B[0m\u001B[1;33m)\u001B[0m\u001B[1;33m:\u001B[0m\u001B[1;33m\u001B[0m\u001B[1;33m\u001B[0m\u001B[0m\n\u001B[1;32m---> 12\u001B[1;33m         \u001B[0mself\u001B[0m\u001B[1;33m.\u001B[0m\u001B[0mticker_attributes_dict\u001B[0m \u001B[1;33m=\u001B[0m \u001B[0mself\u001B[0m\u001B[1;33m.\u001B[0m\u001B[0mset_up_dict\u001B[0m\u001B[1;33m(\u001B[0m\u001B[0mticker_list\u001B[0m\u001B[1;33m)\u001B[0m\u001B[1;33m\u001B[0m\u001B[1;33m\u001B[0m\u001B[0m\n\u001B[0m\u001B[0;32m     13\u001B[0m \u001B[1;33m\u001B[0m\u001B[0m\n\u001B[0;32m     14\u001B[0m     \u001B[1;32mdef\u001B[0m \u001B[0mset_up_dict\u001B[0m\u001B[1;33m(\u001B[0m\u001B[0mself\u001B[0m\u001B[1;33m,\u001B[0m \u001B[0mticker_list\u001B[0m\u001B[1;33m)\u001B[0m\u001B[1;33m:\u001B[0m\u001B[1;33m\u001B[0m\u001B[1;33m\u001B[0m\u001B[0m\n",
      "\u001B[1;32m<ipython-input-23-cbfc4a64d129>\u001B[0m in \u001B[0;36mset_up_dict\u001B[1;34m(self, ticker_list)\u001B[0m\n\u001B[0;32m     17\u001B[0m \u001B[1;33m\u001B[0m\u001B[0m\n\u001B[0;32m     18\u001B[0m         \u001B[1;32mfor\u001B[0m \u001B[0mticker\u001B[0m \u001B[1;32min\u001B[0m \u001B[0mtickers\u001B[0m\u001B[1;33m.\u001B[0m\u001B[0mtickers\u001B[0m\u001B[1;33m:\u001B[0m\u001B[1;33m\u001B[0m\u001B[1;33m\u001B[0m\u001B[0m\n\u001B[1;32m---> 19\u001B[1;33m             \u001B[0mprint\u001B[0m\u001B[1;33m(\u001B[0m\u001B[0mticker\u001B[0m\u001B[1;33m.\u001B[0m\u001B[0minfo\u001B[0m\u001B[1;33m)\u001B[0m\u001B[1;33m\u001B[0m\u001B[1;33m\u001B[0m\u001B[0m\n\u001B[0m\u001B[0;32m     20\u001B[0m \u001B[1;33m\u001B[0m\u001B[0m\n\u001B[0;32m     21\u001B[0m         \u001B[1;31m# return {k:sorted(ticker_array, key=lambda ticker : self.numerical_sort(ticker,k)) for (k,v) in tickers.tickers[0].info.items()}\u001B[0m\u001B[1;33m\u001B[0m\u001B[1;33m\u001B[0m\u001B[1;33m\u001B[0m\u001B[0m\n",
      "\u001B[1;32mc:\\users\\nickm\\appdata\\local\\programs\\python\\python38\\lib\\site-packages\\yfinance\\ticker.py\u001B[0m in \u001B[0;36minfo\u001B[1;34m(self)\u001B[0m\n\u001B[0;32m    136\u001B[0m     \u001B[1;33m@\u001B[0m\u001B[0mproperty\u001B[0m\u001B[1;33m\u001B[0m\u001B[1;33m\u001B[0m\u001B[0m\n\u001B[0;32m    137\u001B[0m     \u001B[1;32mdef\u001B[0m \u001B[0minfo\u001B[0m\u001B[1;33m(\u001B[0m\u001B[0mself\u001B[0m\u001B[1;33m)\u001B[0m\u001B[1;33m:\u001B[0m\u001B[1;33m\u001B[0m\u001B[1;33m\u001B[0m\u001B[0m\n\u001B[1;32m--> 138\u001B[1;33m         \u001B[1;32mreturn\u001B[0m \u001B[0mself\u001B[0m\u001B[1;33m.\u001B[0m\u001B[0mget_info\u001B[0m\u001B[1;33m(\u001B[0m\u001B[1;33m)\u001B[0m\u001B[1;33m\u001B[0m\u001B[1;33m\u001B[0m\u001B[0m\n\u001B[0m\u001B[0;32m    139\u001B[0m \u001B[1;33m\u001B[0m\u001B[0m\n\u001B[0;32m    140\u001B[0m     \u001B[1;33m@\u001B[0m\u001B[0mproperty\u001B[0m\u001B[1;33m\u001B[0m\u001B[1;33m\u001B[0m\u001B[0m\n",
      "\u001B[1;32mc:\\users\\nickm\\appdata\\local\\programs\\python\\python38\\lib\\site-packages\\yfinance\\base.py\u001B[0m in \u001B[0;36mget_info\u001B[1;34m(self, proxy, as_dict, *args, **kwargs)\u001B[0m\n\u001B[0;32m    413\u001B[0m \u001B[1;33m\u001B[0m\u001B[0m\n\u001B[0;32m    414\u001B[0m     \u001B[1;32mdef\u001B[0m \u001B[0mget_info\u001B[0m\u001B[1;33m(\u001B[0m\u001B[0mself\u001B[0m\u001B[1;33m,\u001B[0m \u001B[0mproxy\u001B[0m\u001B[1;33m=\u001B[0m\u001B[1;32mNone\u001B[0m\u001B[1;33m,\u001B[0m \u001B[0mas_dict\u001B[0m\u001B[1;33m=\u001B[0m\u001B[1;32mFalse\u001B[0m\u001B[1;33m,\u001B[0m \u001B[1;33m*\u001B[0m\u001B[0margs\u001B[0m\u001B[1;33m,\u001B[0m \u001B[1;33m**\u001B[0m\u001B[0mkwargs\u001B[0m\u001B[1;33m)\u001B[0m\u001B[1;33m:\u001B[0m\u001B[1;33m\u001B[0m\u001B[1;33m\u001B[0m\u001B[0m\n\u001B[1;32m--> 415\u001B[1;33m         \u001B[0mself\u001B[0m\u001B[1;33m.\u001B[0m\u001B[0m_get_fundamentals\u001B[0m\u001B[1;33m(\u001B[0m\u001B[0mproxy\u001B[0m\u001B[1;33m)\u001B[0m\u001B[1;33m\u001B[0m\u001B[1;33m\u001B[0m\u001B[0m\n\u001B[0m\u001B[0;32m    416\u001B[0m         \u001B[0mdata\u001B[0m \u001B[1;33m=\u001B[0m \u001B[0mself\u001B[0m\u001B[1;33m.\u001B[0m\u001B[0m_info\u001B[0m\u001B[1;33m\u001B[0m\u001B[1;33m\u001B[0m\u001B[0m\n\u001B[0;32m    417\u001B[0m         \u001B[1;32mif\u001B[0m \u001B[0mas_dict\u001B[0m\u001B[1;33m:\u001B[0m\u001B[1;33m\u001B[0m\u001B[1;33m\u001B[0m\u001B[0m\n",
      "\u001B[1;32mc:\\users\\nickm\\appdata\\local\\programs\\python\\python38\\lib\\site-packages\\yfinance\\base.py\u001B[0m in \u001B[0;36m_get_fundamentals\u001B[1;34m(self, kind, proxy)\u001B[0m\n\u001B[0;32m    316\u001B[0m                 \u001B[0mself\u001B[0m\u001B[1;33m.\u001B[0m\u001B[0m_info\u001B[0m\u001B[1;33m.\u001B[0m\u001B[0mupdate\u001B[0m\u001B[1;33m(\u001B[0m\u001B[0mdata\u001B[0m\u001B[1;33m[\u001B[0m\u001B[0mitem\u001B[0m\u001B[1;33m]\u001B[0m\u001B[1;33m)\u001B[0m\u001B[1;33m\u001B[0m\u001B[1;33m\u001B[0m\u001B[0m\n\u001B[0;32m    317\u001B[0m \u001B[1;33m\u001B[0m\u001B[0m\n\u001B[1;32m--> 318\u001B[1;33m         \u001B[0mself\u001B[0m\u001B[1;33m.\u001B[0m\u001B[0m_info\u001B[0m\u001B[1;33m[\u001B[0m\u001B[1;34m'regularMarketPrice'\u001B[0m\u001B[1;33m]\u001B[0m \u001B[1;33m=\u001B[0m \u001B[0mself\u001B[0m\u001B[1;33m.\u001B[0m\u001B[0m_info\u001B[0m\u001B[1;33m[\u001B[0m\u001B[1;34m'regularMarketOpen'\u001B[0m\u001B[1;33m]\u001B[0m\u001B[1;33m\u001B[0m\u001B[1;33m\u001B[0m\u001B[0m\n\u001B[0m\u001B[0;32m    319\u001B[0m         \u001B[0mself\u001B[0m\u001B[1;33m.\u001B[0m\u001B[0m_info\u001B[0m\u001B[1;33m[\u001B[0m\u001B[1;34m'logo_url'\u001B[0m\u001B[1;33m]\u001B[0m \u001B[1;33m=\u001B[0m \u001B[1;34m\"\"\u001B[0m\u001B[1;33m\u001B[0m\u001B[1;33m\u001B[0m\u001B[0m\n\u001B[0;32m    320\u001B[0m         \u001B[1;32mtry\u001B[0m\u001B[1;33m:\u001B[0m\u001B[1;33m\u001B[0m\u001B[1;33m\u001B[0m\u001B[0m\n",
      "\u001B[1;31mKeyError\u001B[0m: 'regularMarketOpen'"
     ]
    }
   ],
   "source": [
    "import yfinance as yf\n",
    "\n",
    "class CustomTicker:\n",
    "    def __init__(self, ticker, ticker_rank=0):\n",
    "        self.ticker = ticker\n",
    "        # self.info = ticker.info\n",
    "        self.ticker_score = int()\n",
    "\n",
    "\n",
    "class SuperClass:\n",
    "    def __init__(self, ticker_list):\n",
    "        self.ticker_attributes_dict = self.set_up_dict(ticker_list)\n",
    "\n",
    "    def set_up_dict(self, ticker_list):\n",
    "        tickers = yf.Tickers(ticker_list)\n",
    "        ticker_list = [CustomTicker(ticker) for ticker in tickers.tickers]\n",
    "\n",
    "        for ticker in tickers.tickers:\n",
    "            print(ticker.info)\n",
    "\n",
    "        # return {k:sorted(ticker_array, key=lambda ticker : self.numerical_sort(ticker,k)) for (k,v) in tickers.tickers[0].info.items()}\n",
    "        # self.ticker_attributes_dict = {}\n",
    "        # for key in tickers[0].info.keys():\n",
    "        #     self.ticker_attributes_dict[key] = sorted(ticker_list, key=lambda custom_ticker : SuperClass.numerical_sort(custom_ticker.info[key]))\n",
    "\n",
    "    def numerical_sort(cls, attribute):\n",
    "        if attribute is None:\n",
    "            return -1\n",
    "        else:\n",
    "            return attribute\n",
    "\n",
    "\n",
    "\n",
    "\n",
    "super_class = SuperClass(['msft','appl', 'goog'])\n",
    "print('done')"
   ],
   "metadata": {
    "collapsed": false,
    "pycharm": {
     "name": "#%%\n"
    }
   }
  },
  {
   "cell_type": "code",
   "execution_count": 24,
   "outputs": [
    {
     "data": {
      "text/plain": "{'Symbol': 'AAPL',\n 'AssetType': 'Common Stock',\n 'Name': 'Apple Inc',\n 'Description': 'Apple Inc. designs, manufactures, and markets smartphones, personal computers, tablets, wearables, and accessories worldwide. It also sells various related services. The company offers iPhone, a line of smartphones; Mac, a line of personal computers; iPad, a line of multi-purpose tablets; and wearables, home, and accessories comprising AirPods, Apple TV, Apple Watch, Beats products, HomePod, iPod touch, and other Apple-branded and third-party accessories. It also provides digital content stores and streaming services; AppleCare support services; and iCloud, a cloud service, which stores music, photos, contacts, calendars, mail, documents, and others. In addition, the company offers various service, such as Apple Arcade, a game subscription service; Apple Card, a co-branded credit card; Apple News+, a subscription news and magazine service; and Apple Pay, a cashless payment service, as well as licenses its intellectual property, and provides other related services. The company serves consumers, and small and mid-sized businesses; and the education, enterprise, and government markets. It sells and delivers third-party applications for its products through the App Store, Mac App Store, and Watch App Store. The company also sells its products through its retail and online stores, and direct sales force; and third-party cellular network carriers, wholesalers, retailers, and resellers. Apple Inc. has a collaboration with Google to develop COVID-19 tracking system for Android and iOS devices. Apple Inc. was founded in 1977 and is headquartered in Cupertino, California.',\n 'Exchange': 'NASDAQ',\n 'Currency': 'USD',\n 'Country': 'USA',\n 'Sector': 'Technology',\n 'Industry': 'Consumer Electronics',\n 'Address': 'One Apple Park Way, Cupertino, CA, United States, 95014',\n 'FullTimeEmployees': '137000',\n 'FiscalYearEnd': 'September',\n 'LatestQuarter': '2020-06-30',\n 'MarketCapitalization': '2150962692096',\n 'EBITDA': '78671003648',\n 'PERatio': '35.8681',\n 'PEGRatio': '2.4007',\n 'BookValue': '16.873',\n 'DividendPerShare': '3.28',\n 'DividendYield': '0.0065',\n 'EPS': '13.185',\n 'RevenuePerShareTTM': '62.316',\n 'ProfitMargin': '0.2133',\n 'OperatingMarginTTM': '0.2452',\n 'ReturnOnAssetsTTM': '0.1312',\n 'ReturnOnEquityTTM': '0.6925',\n 'RevenueTTM': '273857003520',\n 'GrossProfitTTM': '98392000000',\n 'DilutedEPSTTM': '13.185',\n 'QuarterlyEarningsGrowthYOY': '0.183',\n 'QuarterlyRevenueGrowthYOY': '0.109',\n 'AnalystTargetPrice': '430.06',\n 'TrailingPE': '35.8681',\n 'ForwardPE': '30.1205',\n 'PriceToSalesRatioTTM': '7.6593',\n 'PriceToBookRatio': '27.9849',\n 'EVToRevenue': '7.4583',\n 'EVToEBITDA': '24.6384',\n 'Beta': '1.2264',\n '52WeekHigh': '515.14',\n '52WeekLow': '204.22',\n '50DayMovingAverage': '424.245',\n '200DayMovingAverage': '333.5888',\n 'SharesOutstanding': '4275630080',\n 'SharesFloat': '4271358366',\n 'SharesShort': '33962851',\n 'SharesShortPriorMonth': '34828293',\n 'ShortRatio': '0.57',\n 'ShortPercentOutstanding': '0.01',\n 'ShortPercentFloat': '0.0055',\n 'PercentInsiders': '0.066',\n 'PercentInstitutions': '62.115',\n 'ForwardAnnualDividendRate': '3.28',\n 'ForwardAnnualDividendYield': '0.0065',\n 'PayoutRatio': '0.2373',\n 'DividendDate': '2020-08-13',\n 'ExDividendDate': '2020-08-07',\n 'LastSplitFactor': '7:1',\n 'LastSplitDate': '2014-06-09'}"
     },
     "execution_count": 24,
     "metadata": {},
     "output_type": "execute_result"
    }
   ],
   "source": [
    "import requests\n",
    "\n",
    "req = requests.get('https://www.alphavantage.co/query?function=OVERVIEW&symbol=aapl&apikey=RD00RWB9FWI79E6G')\n",
    "req.json()"
   ],
   "metadata": {
    "collapsed": false,
    "pycharm": {
     "name": "#%%\n"
    }
   }
  },
  {
   "cell_type": "code",
   "execution_count": null,
   "outputs": [],
   "source": [],
   "metadata": {
    "collapsed": false,
    "pycharm": {
     "name": "#%%\n"
    }
   }
  },
  {
   "cell_type": "code",
   "execution_count": 64,
   "outputs": [
    {
     "name": "stdout",
     "output_type": "stream",
     "text": [
      "PERatio\n",
      "PEGRatio\n",
      "PriceToBookRatio\n",
      "{'PERatio': [Apple Inc\n",
      "PE: 38.3692 \n",
      "PEG: 2.5681 \n",
      "PB: 29.9363, Microsoft Corporation\n",
      "PE: 38.3941 \n",
      "PEG: 2.6323 \n",
      "PB: 14.1465], 'PEGRatio': [Apple Inc\n",
      "PE: 38.3692 \n",
      "PEG: 2.5681 \n",
      "PB: 29.9363, Microsoft Corporation\n",
      "PE: 38.3941 \n",
      "PEG: 2.6323 \n",
      "PB: 14.1465], 'PriceToBookRatio': [Microsoft Corporation\n",
      "PE: 38.3941 \n",
      "PEG: 2.6323 \n",
      "PB: 14.1465, Apple Inc\n",
      "PE: 38.3692 \n",
      "PEG: 2.5681 \n",
      "PB: 29.9363]}\n"
     ]
    }
   ],
   "source": [
    "import requests\n",
    "import concurrent.futures\n",
    "import threading\n",
    "\n",
    "class Stock:\n",
    "    def __init__(self, overview):\n",
    "        self.overview = overview\n",
    "\n",
    "    def __repr__(self):\n",
    "        return str(f'{self.overview[\"Name\"]}\\nPE: {self.overview[\"PERatio\"]} \\nPEG: {self.overview[\"PEGRatio\"]} \\nPB: {self.overview[\"PriceToBookRatio\"]}')\n",
    "        # return str(self.overview)\n",
    "\n",
    "class StockFactory:\n",
    "    api_key = 'RD00RWB9FWI79E6G'\n",
    "    def __init__(self):\n",
    "        pass\n",
    "\n",
    "    @classmethod\n",
    "    def _is_type(cls, x, t):\n",
    "        try:\n",
    "            t(x)\n",
    "            return True\n",
    "        except:\n",
    "            return False\n",
    "\n",
    "    def download_stock(self, ticker):\n",
    "        stock = requests.get(f'https://www.alphavantage.co/query?function=OVERVIEW&symbol={ticker}&apikey={StockFactory.api_key}')\n",
    "        stock = stock.json()\n",
    "        for k, v in stock.items():\n",
    "            if self._is_type(v, int):\n",
    "                stock[k] = int(v)\n",
    "            elif self._is_type(v, float):\n",
    "                stock[k] = float(v)\n",
    "            elif v == 'true':\n",
    "                stock[k] = True\n",
    "            elif v == 'false':\n",
    "                stock[k] = False\n",
    "        return Stock(overview=stock)\n",
    "    \"\"\"\n",
    "    :return generator\n",
    "    \"\"\"\n",
    "    def download_stocks(self, tickers, threads):\n",
    "        with concurrent.futures.ThreadPoolExecutor(\n",
    "                max_workers=threads) as executor:\n",
    "            results = executor.map(self.download_stock, tickers)\n",
    "            # executor.shutdown(wait=True)\n",
    "        return results\n",
    "\n",
    "class StockSorter:\n",
    "    def __init__(self):\n",
    "        self.factory = StockFactory()\n",
    "        self.attribute_dict = {}\n",
    "        self.lock = threading.Lock()\n",
    "\n",
    "    def download_and_sort(self, tickers):\n",
    "        values_to_sort = ['PERatio', 'PEGRatio', 'PriceToBookRatio']\n",
    "\n",
    "        # stock_list = self.factory.download_stocks(tickers, threads=5)\n",
    "        # stock_list = list(stock_list)\n",
    "\n",
    "        for key in values_to_sort:\n",
    "            print(key)\n",
    "            self.attribute_dict[key] = sorted(stock_list, key=lambda stock : stock.overview[key])\n",
    "        print(self.attribute_dict)\n",
    "\n",
    "    def write(self):\n",
    "\n",
    "\n",
    "\n",
    "StockSorter().download_and_sort(['msft', 'aapl', 'ibm','mmm', 'amd'])"
   ],
   "metadata": {
    "collapsed": false,
    "pycharm": {
     "name": "#%%\n"
    }
   }
  },
  {
   "cell_type": "code",
   "execution_count": 60,
   "outputs": [],
   "source": [
    "# for debugging run once per minute\n",
    "stock_list = list(StockFactory().download_stocks(['msft', 'aapl'], threads=5))"
   ],
   "metadata": {
    "collapsed": false,
    "pycharm": {
     "name": "#%%\n"
    }
   }
  },
  {
   "cell_type": "code",
   "execution_count": 34,
   "outputs": [
    {
     "name": "stdout",
     "output_type": "stream",
     "text": [
      "True\n"
     ]
    }
   ],
   "source": [
    "\n",
    "print(165.4231 > 18.5131)"
   ],
   "metadata": {
    "collapsed": false,
    "pycharm": {
     "name": "#%%\n"
    }
   }
  },
  {
   "cell_type": "code",
   "execution_count": 3,
   "outputs": [
    {
     "name": "stdout",
     "output_type": "stream",
     "text": [
      "<built-in function time>\n"
     ]
    }
   ],
   "source": [
    "from time import time\n",
    "print (time)"
   ],
   "metadata": {
    "collapsed": false,
    "pycharm": {
     "name": "#%%\n"
    }
   }
  },
  {
   "cell_type": "code",
   "execution_count": 1,
   "outputs": [
    {
     "name": "stdout",
     "output_type": "stream",
     "text": [
      "made it here!\n"
     ]
    }
   ],
   "source": [
    "import schedule\n",
    "import time\n",
    "from threading import Thread\n",
    "\n",
    "def job():\n",
    "    print(\"I'm working...\")\n",
    "\n",
    "schedule.every(1).second.do(job)\n",
    "\n",
    "def start_scheduler():\n",
    "    while True:\n",
    "        schedule.run_pending()\n",
    "        time.sleep(.1)\n",
    "\n",
    "thread = Thread(target=start_scheduler)\n",
    "thread.start()\n",
    "\n",
    "print('made it here!')"
   ],
   "metadata": {
    "collapsed": false,
    "pycharm": {
     "name": "#%%\n"
    }
   }
  },
  {
   "cell_type": "code",
   "execution_count": 2,
   "outputs": [
    {
     "name": "stdout",
     "output_type": "stream",
     "text": [
      "Press Ctrl+C to exit\n",
      "Tick! The time is: 2020-08-30 20:04:00.014970\n"
     ]
    }
   ],
   "source": [
    "\"\"\"\n",
    "Demonstrates how to use the background scheduler to schedule a job that executes on 3 second\n",
    "intervals.\n",
    "\"\"\"\n",
    "\n",
    "from datetime import datetime\n",
    "import time\n",
    "\n",
    "from apscheduler.schedulers.background import BackgroundScheduler\n",
    "\n",
    "\n",
    "def tick():\n",
    "    print('Tick! The time is: %s' % datetime.now())\n",
    "\n",
    "\n",
    "if __name__ == '__main__':\n",
    "    scheduler = BackgroundScheduler()\n",
    "    scheduler.add_job(tick, 'cron', day_of_week='mon-sun', hour=20, minute=4)\n",
    "    scheduler.start()\n",
    "    print('Press Ctrl+C to exit')\n",
    "\n",
    "    try:\n",
    "        # This is here to simulate application activity (which keeps the main thread alive).\n",
    "        while True:\n",
    "            time.sleep(2)\n",
    "    except (KeyboardInterrupt, SystemExit):\n",
    "        # Not strictly necessary if daemonic mode is enabled but should be done if possible\n",
    "        scheduler.shutdown()\n",
    "\n"
   ],
   "metadata": {
    "collapsed": false,
    "pycharm": {
     "name": "#%%\n"
    }
   }
  },
  {
   "cell_type": "code",
   "execution_count": 2,
   "outputs": [
    {
     "name": "stdout",
     "output_type": "stream",
     "text": [
      "print hello\n"
     ]
    }
   ],
   "source": [
    "import logging\n",
    "\n",
    "logging.debug('hello')\n",
    "logging.info('info')\n",
    "print('print hello')"
   ],
   "metadata": {
    "collapsed": false,
    "pycharm": {
     "name": "#%%\n"
    }
   }
  },
  {
   "cell_type": "code",
   "execution_count": null,
   "outputs": [],
   "source": [
    "\n"
   ],
   "metadata": {
    "collapsed": false,
    "pycharm": {
     "name": "#%%\n"
    }
   }
  }
 ],
 "metadata": {
  "kernelspec": {
   "display_name": "Python 3",
   "language": "python",
   "name": "python3"
  },
  "language_info": {
   "codemirror_mode": {
    "name": "ipython",
    "version": 2
   },
   "file_extension": ".py",
   "mimetype": "text/x-python",
   "name": "python",
   "nbconvert_exporter": "python",
   "pygments_lexer": "ipython2",
   "version": "2.7.6"
  }
 },
 "nbformat": 4,
 "nbformat_minor": 0
}